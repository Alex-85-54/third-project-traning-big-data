{
 "cells": [
  {
   "cell_type": "markdown",
   "metadata": {},
   "source": [
    "<div style=\"border:solid green 2px; padding: 20px\">\n",
    "<b>Привет, Александр!</b>\n",
    "\n",
    "Меня зовут Александр Пономаренко, и я буду проверять твой проект. Предлагаю общаться на «ты» :) Но если это не удобно - дай знать, и мы перейдем на \"вы\". \n",
    "\n",
    "Моя основная цель — не указать на совершенные тобою ошибки, а поделиться своим опытом и помочь тебе стать аналитиком данных. Ты уже проделал большую работу над проектом, но давай сделаем его еще лучше. Ниже ты найдешь мои комментарии - **пожалуйста, не перемещай, не изменяй и не удаляй их**. Увидев у тебя ошибку, в первый раз я лишь укажу на ее наличие и дам тебе возможность самой найти и исправить ее. На реальной работе твой начальник будет поступать так же, а я пытаюсь подготовить тебя именно к работе аналитиком. Но если ты пока не справишься с такой задачей - при следующей проверке я дам более точную подсказку. Я буду использовать цветовую разметку:\n",
    "\n",
    "<div class=\"alert alert-danger\">\n",
    "<b>Комментарий ревьюера ❌:</b> Так выделены самые важные замечания. Без их отработки проект не будет принят. </div>\n",
    "\n",
    "<div class=\"alert alert-warning\">\n",
    "<b>Комментарий ревьюера ⚠️:</b> Так выделены небольшие замечания. Я надеюсь, что их ты тоже учтешь - твой проект от этого станет только лучше. Но настаивать на их отработке не буду.\n",
    "\n",
    "</div>\n",
    "\n",
    "<div class=\"alert alert-success\">\n",
    "<b>Комментарий ревьюера ✔️:</b> Так я выделяю все остальные комментарии.</div>\n",
    "\n",
    "Давай работать над проектом в диалоге: **если ты что-то меняешь в проекте или отвечаешь на мои комменатри — пиши об этом.** Мне будет легче отследить изменения, если ты выделишь свои комментарии:\n",
    "<div class=\"alert alert-info\"> <b>Комментарий студента:</b> Например, вот так.</div>\n",
    "\n",
    "Всё это поможет выполнить повторную проверку твоего проекта оперативнее. "
   ]
  },
  {
   "cell_type": "markdown",
   "metadata": {},
   "source": [
    "<div class=\"alert alert-info\"> <b>Комментарий студента:</b> Привет, Александр! На \"ты\" норм) </div>"
   ]
  },
  {
   "cell_type": "markdown",
   "metadata": {
    "id": "GEqQaHzsZ_bA"
   },
   "source": [
    "# Предсказание стоимости жилья\n",
    "\n",
    "Данные, которые мы будем анализировать, были собраны в рамках переписи населения в США. Каждая строка содержит агрегированную статистику о жилом массиве. Жилой массив — минимальная географическая единица с населением от 600 до 3000 человек в зависимости от штата. Одна строка в данных содержит статистику в среднем о 1425.5 обитателях жилого массива.\n",
    "\n",
    "В проекте нам нужно создать модель линейной регрессии на данных о жилье в Калифорнии в 1990 году. На основе данных предскажем медианную стоимость дома в жилом массиве. Обучим модель и сделаем предсказания на тестовой выборке. Для оценки качества модели будем использовать метрики RMSE, MAE и R2."
   ]
  },
  {
   "cell_type": "markdown",
   "metadata": {
    "id": "53871372"
   },
   "source": [
    "## Подготовка данных"
   ]
  },
  {
   "cell_type": "markdown",
   "metadata": {},
   "source": [
    "### Загрузка данных"
   ]
  },
  {
   "cell_type": "markdown",
   "metadata": {},
   "source": [
    "Импортируем нужные библиотеки:"
   ]
  },
  {
   "cell_type": "code",
   "execution_count": 1,
   "metadata": {
    "id": "df92e3ec"
   },
   "outputs": [],
   "source": [
    "import pandas as pd \n",
    "import numpy as np\n",
    "\n",
    "import pyspark\n",
    "from pyspark.sql import SparkSession\n",
    "from pyspark.sql.types import *\n",
    "import pyspark.sql.functions as F\n",
    "\n",
    "from pyspark.ml.feature import StringIndexer, VectorAssembler, StandardScaler\n",
    "from pyspark.ml.regression import LinearRegression\n",
    "\n",
    "from pyspark.ml.feature import OneHotEncoder \n",
    "\n",
    "from pyspark.mllib.evaluation import RegressionMetrics\n",
    "from pyspark.ml.tuning import CrossValidator, ParamGridBuilder\n",
    "from pyspark.ml.evaluation import RegressionEvaluator\n",
    "        \n",
    "RANDOM_SEED = 12"
   ]
  },
  {
   "cell_type": "markdown",
   "metadata": {},
   "source": [
    "Инициализируем локальную Spark-сессию:"
   ]
  },
  {
   "cell_type": "code",
   "execution_count": 2,
   "metadata": {},
   "outputs": [],
   "source": [
    "spark = SparkSession.builder \\\n",
    "                    .master(\"local\") \\\n",
    "                    .appName(\"California_Housing\") \\\n",
    "                    .getOrCreate()"
   ]
  },
  {
   "cell_type": "markdown",
   "metadata": {},
   "source": [
    "Загружаем файл с данными:"
   ]
  },
  {
   "cell_type": "code",
   "execution_count": 3,
   "metadata": {
    "scrolled": false
   },
   "outputs": [
    {
     "name": "stdout",
     "output_type": "stream",
     "text": [
      "root\n",
      " |-- longitude: double (nullable = true)\n",
      " |-- latitude: double (nullable = true)\n",
      " |-- housing_median_age: double (nullable = true)\n",
      " |-- total_rooms: double (nullable = true)\n",
      " |-- total_bedrooms: double (nullable = true)\n",
      " |-- population: double (nullable = true)\n",
      " |-- households: double (nullable = true)\n",
      " |-- median_income: double (nullable = true)\n",
      " |-- median_house_value: double (nullable = true)\n",
      " |-- ocean_proximity: string (nullable = true)\n",
      "\n"
     ]
    }
   ],
   "source": [
    "df = spark.read.option('header', 'true').csv('/datasets/housing.csv', inferSchema = True) \n",
    "df.printSchema()"
   ]
  },
  {
   "cell_type": "markdown",
   "metadata": {},
   "source": [
    "**Вывод:** данные успешно загружены. Типы данных - float, корме одного столбца(ocean_proximity) - str. Все стобцы хранят количественные данные, опять же кроме одного *ocean_proximity* - категориальная переменная."
   ]
  },
  {
   "cell_type": "markdown",
   "metadata": {},
   "source": [
    "Посморим на несколько строк полученного дата-фрейма:"
   ]
  },
  {
   "cell_type": "code",
   "execution_count": 4,
   "metadata": {
    "scrolled": true
   },
   "outputs": [
    {
     "name": "stdout",
     "output_type": "stream",
     "text": [
      "+---------+--------+------------------+-----------+--------------+----------+----------+-------------+------------------+---------------+\n",
      "|longitude|latitude|housing_median_age|total_rooms|total_bedrooms|population|households|median_income|median_house_value|ocean_proximity|\n",
      "+---------+--------+------------------+-----------+--------------+----------+----------+-------------+------------------+---------------+\n",
      "|  -122.23|   37.88|              41.0|      880.0|         129.0|     322.0|     126.0|       8.3252|          452600.0|       NEAR BAY|\n",
      "|  -122.22|   37.86|              21.0|     7099.0|        1106.0|    2401.0|    1138.0|       8.3014|          358500.0|       NEAR BAY|\n",
      "|  -122.24|   37.85|              52.0|     1467.0|         190.0|     496.0|     177.0|       7.2574|          352100.0|       NEAR BAY|\n",
      "|  -122.25|   37.85|              52.0|     1274.0|         235.0|     558.0|     219.0|       5.6431|          341300.0|       NEAR BAY|\n",
      "|  -122.25|   37.85|              52.0|     1627.0|         280.0|     565.0|     259.0|       3.8462|          342200.0|       NEAR BAY|\n",
      "+---------+--------+------------------+-----------+--------------+----------+----------+-------------+------------------+---------------+\n",
      "only showing top 5 rows\n",
      "\n"
     ]
    }
   ],
   "source": [
    "df.show(5)"
   ]
  },
  {
   "cell_type": "markdown",
   "metadata": {},
   "source": [
    "**Вывод:** таблица загружена, названия колонок читабельны. Но две колонки накладываются друг на друга.\n"
   ]
  },
  {
   "cell_type": "markdown",
   "metadata": {},
   "source": [
    "Представим изображение таблицы в формате pandas, для более удобного восприятия:"
   ]
  },
  {
   "cell_type": "code",
   "execution_count": 5,
   "metadata": {
    "scrolled": false
   },
   "outputs": [
    {
     "data": {
      "text/html": [
       "<div>\n",
       "<style scoped>\n",
       "    .dataframe tbody tr th:only-of-type {\n",
       "        vertical-align: middle;\n",
       "    }\n",
       "\n",
       "    .dataframe tbody tr th {\n",
       "        vertical-align: top;\n",
       "    }\n",
       "\n",
       "    .dataframe thead th {\n",
       "        text-align: right;\n",
       "    }\n",
       "</style>\n",
       "<table border=\"1\" class=\"dataframe\">\n",
       "  <thead>\n",
       "    <tr style=\"text-align: right;\">\n",
       "      <th></th>\n",
       "      <th>longitude</th>\n",
       "      <th>latitude</th>\n",
       "      <th>housing_median_age</th>\n",
       "      <th>total_rooms</th>\n",
       "      <th>total_bedrooms</th>\n",
       "      <th>population</th>\n",
       "      <th>households</th>\n",
       "      <th>median_income</th>\n",
       "      <th>median_house_value</th>\n",
       "      <th>ocean_proximity</th>\n",
       "    </tr>\n",
       "  </thead>\n",
       "  <tbody>\n",
       "    <tr>\n",
       "      <td>0</td>\n",
       "      <td>-122.23</td>\n",
       "      <td>37.88</td>\n",
       "      <td>41.0</td>\n",
       "      <td>880.0</td>\n",
       "      <td>129.0</td>\n",
       "      <td>322.0</td>\n",
       "      <td>126.0</td>\n",
       "      <td>8.3252</td>\n",
       "      <td>452600.0</td>\n",
       "      <td>NEAR BAY</td>\n",
       "    </tr>\n",
       "    <tr>\n",
       "      <td>1</td>\n",
       "      <td>-122.22</td>\n",
       "      <td>37.86</td>\n",
       "      <td>21.0</td>\n",
       "      <td>7099.0</td>\n",
       "      <td>1106.0</td>\n",
       "      <td>2401.0</td>\n",
       "      <td>1138.0</td>\n",
       "      <td>8.3014</td>\n",
       "      <td>358500.0</td>\n",
       "      <td>NEAR BAY</td>\n",
       "    </tr>\n",
       "    <tr>\n",
       "      <td>2</td>\n",
       "      <td>-122.24</td>\n",
       "      <td>37.85</td>\n",
       "      <td>52.0</td>\n",
       "      <td>1467.0</td>\n",
       "      <td>190.0</td>\n",
       "      <td>496.0</td>\n",
       "      <td>177.0</td>\n",
       "      <td>7.2574</td>\n",
       "      <td>352100.0</td>\n",
       "      <td>NEAR BAY</td>\n",
       "    </tr>\n",
       "    <tr>\n",
       "      <td>3</td>\n",
       "      <td>-122.25</td>\n",
       "      <td>37.85</td>\n",
       "      <td>52.0</td>\n",
       "      <td>1274.0</td>\n",
       "      <td>235.0</td>\n",
       "      <td>558.0</td>\n",
       "      <td>219.0</td>\n",
       "      <td>5.6431</td>\n",
       "      <td>341300.0</td>\n",
       "      <td>NEAR BAY</td>\n",
       "    </tr>\n",
       "    <tr>\n",
       "      <td>4</td>\n",
       "      <td>-122.25</td>\n",
       "      <td>37.85</td>\n",
       "      <td>52.0</td>\n",
       "      <td>1627.0</td>\n",
       "      <td>280.0</td>\n",
       "      <td>565.0</td>\n",
       "      <td>259.0</td>\n",
       "      <td>3.8462</td>\n",
       "      <td>342200.0</td>\n",
       "      <td>NEAR BAY</td>\n",
       "    </tr>\n",
       "  </tbody>\n",
       "</table>\n",
       "</div>"
      ],
      "text/plain": [
       "   longitude  latitude  housing_median_age  total_rooms  total_bedrooms  \\\n",
       "0    -122.23     37.88                41.0        880.0           129.0   \n",
       "1    -122.22     37.86                21.0       7099.0          1106.0   \n",
       "2    -122.24     37.85                52.0       1467.0           190.0   \n",
       "3    -122.25     37.85                52.0       1274.0           235.0   \n",
       "4    -122.25     37.85                52.0       1627.0           280.0   \n",
       "\n",
       "   population  households  median_income  median_house_value ocean_proximity  \n",
       "0       322.0       126.0         8.3252            452600.0        NEAR BAY  \n",
       "1      2401.0      1138.0         8.3014            358500.0        NEAR BAY  \n",
       "2       496.0       177.0         7.2574            352100.0        NEAR BAY  \n",
       "3       558.0       219.0         5.6431            341300.0        NEAR BAY  \n",
       "4       565.0       259.0         3.8462            342200.0        NEAR BAY  "
      ]
     },
     "execution_count": 5,
     "metadata": {},
     "output_type": "execute_result"
    }
   ],
   "source": [
    "df_pd = df.toPandas()\n",
    "df_pd.head(5)"
   ]
  },
  {
   "cell_type": "markdown",
   "metadata": {},
   "source": [
    "-В колонках датасета содержатся следующие данные:\n",
    "+ longitude — широта;\n",
    "+ latitude — долгота;\n",
    "+ housing_median_age — медианный возраст жителей жилого массива;\n",
    "+ total_rooms — общее количество комнат в домах жилого массива;\n",
    "+ total_bedrooms — общее количество спален в домах жилого массива;\n",
    "+ population — количество человек, которые проживают в жилом массиве;\n",
    "+ households — количество домовладений в жилом массиве;\n",
    "+ median_income — медианный доход жителей жилого массива;\n",
    "+ median_house_value — медианная стоимость дома в жилом массиве;\n",
    "+ ocean_proximity — близость к океану."
   ]
  },
  {
   "cell_type": "markdown",
   "metadata": {},
   "source": [
    "Посмотрим описательную статистику числовых данных:"
   ]
  },
  {
   "cell_type": "code",
   "execution_count": 6,
   "metadata": {},
   "outputs": [
    {
     "data": {
      "text/html": [
       "<div>\n",
       "<style scoped>\n",
       "    .dataframe tbody tr th:only-of-type {\n",
       "        vertical-align: middle;\n",
       "    }\n",
       "\n",
       "    .dataframe tbody tr th {\n",
       "        vertical-align: top;\n",
       "    }\n",
       "\n",
       "    .dataframe thead th {\n",
       "        text-align: right;\n",
       "    }\n",
       "</style>\n",
       "<table border=\"1\" class=\"dataframe\">\n",
       "  <thead>\n",
       "    <tr style=\"text-align: right;\">\n",
       "      <th></th>\n",
       "      <th>summary</th>\n",
       "      <th>longitude</th>\n",
       "      <th>latitude</th>\n",
       "      <th>housing_median_age</th>\n",
       "      <th>total_rooms</th>\n",
       "      <th>total_bedrooms</th>\n",
       "      <th>population</th>\n",
       "      <th>households</th>\n",
       "      <th>median_income</th>\n",
       "      <th>median_house_value</th>\n",
       "      <th>ocean_proximity</th>\n",
       "    </tr>\n",
       "  </thead>\n",
       "  <tbody>\n",
       "    <tr>\n",
       "      <td>0</td>\n",
       "      <td>count</td>\n",
       "      <td>20640</td>\n",
       "      <td>20640</td>\n",
       "      <td>20640</td>\n",
       "      <td>20640</td>\n",
       "      <td>20433</td>\n",
       "      <td>20640</td>\n",
       "      <td>20640</td>\n",
       "      <td>20640</td>\n",
       "      <td>20640</td>\n",
       "      <td>20640</td>\n",
       "    </tr>\n",
       "    <tr>\n",
       "      <td>1</td>\n",
       "      <td>mean</td>\n",
       "      <td>-119.56970445736148</td>\n",
       "      <td>35.6318614341087</td>\n",
       "      <td>28.639486434108527</td>\n",
       "      <td>2635.7630813953488</td>\n",
       "      <td>537.8705525375618</td>\n",
       "      <td>1425.4767441860465</td>\n",
       "      <td>499.5396802325581</td>\n",
       "      <td>3.8706710029070246</td>\n",
       "      <td>206855.81690891474</td>\n",
       "      <td>None</td>\n",
       "    </tr>\n",
       "    <tr>\n",
       "      <td>2</td>\n",
       "      <td>stddev</td>\n",
       "      <td>2.003531723502584</td>\n",
       "      <td>2.135952397457101</td>\n",
       "      <td>12.58555761211163</td>\n",
       "      <td>2181.6152515827944</td>\n",
       "      <td>421.38507007403115</td>\n",
       "      <td>1132.46212176534</td>\n",
       "      <td>382.3297528316098</td>\n",
       "      <td>1.899821717945263</td>\n",
       "      <td>115395.61587441359</td>\n",
       "      <td>None</td>\n",
       "    </tr>\n",
       "    <tr>\n",
       "      <td>3</td>\n",
       "      <td>min</td>\n",
       "      <td>-124.35</td>\n",
       "      <td>32.54</td>\n",
       "      <td>1.0</td>\n",
       "      <td>2.0</td>\n",
       "      <td>1.0</td>\n",
       "      <td>3.0</td>\n",
       "      <td>1.0</td>\n",
       "      <td>0.4999</td>\n",
       "      <td>14999.0</td>\n",
       "      <td>&lt;1H OCEAN</td>\n",
       "    </tr>\n",
       "    <tr>\n",
       "      <td>4</td>\n",
       "      <td>max</td>\n",
       "      <td>-114.31</td>\n",
       "      <td>41.95</td>\n",
       "      <td>52.0</td>\n",
       "      <td>39320.0</td>\n",
       "      <td>6445.0</td>\n",
       "      <td>35682.0</td>\n",
       "      <td>6082.0</td>\n",
       "      <td>15.0001</td>\n",
       "      <td>500001.0</td>\n",
       "      <td>NEAR OCEAN</td>\n",
       "    </tr>\n",
       "  </tbody>\n",
       "</table>\n",
       "</div>"
      ],
      "text/plain": [
       "  summary            longitude           latitude  housing_median_age  \\\n",
       "0   count                20640              20640               20640   \n",
       "1    mean  -119.56970445736148   35.6318614341087  28.639486434108527   \n",
       "2  stddev    2.003531723502584  2.135952397457101   12.58555761211163   \n",
       "3     min              -124.35              32.54                 1.0   \n",
       "4     max              -114.31              41.95                52.0   \n",
       "\n",
       "          total_rooms      total_bedrooms          population  \\\n",
       "0               20640               20433               20640   \n",
       "1  2635.7630813953488   537.8705525375618  1425.4767441860465   \n",
       "2  2181.6152515827944  421.38507007403115    1132.46212176534   \n",
       "3                 2.0                 1.0                 3.0   \n",
       "4             39320.0              6445.0             35682.0   \n",
       "\n",
       "          households       median_income  median_house_value ocean_proximity  \n",
       "0              20640               20640               20640           20640  \n",
       "1  499.5396802325581  3.8706710029070246  206855.81690891474            None  \n",
       "2  382.3297528316098   1.899821717945263  115395.61587441359            None  \n",
       "3                1.0              0.4999             14999.0       <1H OCEAN  \n",
       "4             6082.0             15.0001            500001.0      NEAR OCEAN  "
      ]
     },
     "execution_count": 6,
     "metadata": {},
     "output_type": "execute_result"
    }
   ],
   "source": [
    "df.describe().toPandas()"
   ]
  },
  {
   "cell_type": "markdown",
   "metadata": {},
   "source": [
    "**Вывод:** На первый взгляд все значения адекватны, выбросов нет. В дата-сете 20640 строк."
   ]
  },
  {
   "cell_type": "markdown",
   "metadata": {},
   "source": [
    "### Обработка пропусков"
   ]
  },
  {
   "cell_type": "markdown",
   "metadata": {},
   "source": [
    "Посмотрим количество пропусков в дата-сете:"
   ]
  },
  {
   "cell_type": "code",
   "execution_count": 7,
   "metadata": {},
   "outputs": [
    {
     "data": {
      "text/plain": [
       "longitude             0.000000\n",
       "latitude              0.000000\n",
       "housing_median_age    0.000000\n",
       "total_rooms           0.000000\n",
       "total_bedrooms        0.010029\n",
       "population            0.000000\n",
       "households            0.000000\n",
       "median_income         0.000000\n",
       "median_house_value    0.000000\n",
       "ocean_proximity       0.000000\n",
       "dtype: float64"
      ]
     },
     "execution_count": 7,
     "metadata": {},
     "output_type": "execute_result"
    }
   ],
   "source": [
    "df_pd.isna().mean()"
   ]
  },
  {
   "cell_type": "markdown",
   "metadata": {},
   "source": [
    "**Вывод:** видим, что пропуски имеются только в одном столбце *total_bedrooms*. Можем заполнить их медианой полученной выше методом describe()."
   ]
  },
  {
   "cell_type": "markdown",
   "metadata": {},
   "source": [
    "Заполним пропуски в колонке *total_bedrooms* значением 421, полученным из метода describe():"
   ]
  },
  {
   "cell_type": "code",
   "execution_count": 74,
   "metadata": {},
   "outputs": [],
   "source": [
    "#df = df.na.fill(421)\n",
    "#print('Количество пропусков в колонке total_bedrooms после заполнения медианой равной 421:', df_pd['total_bedrooms'].isna().mean())"
   ]
  },
  {
   "cell_type": "markdown",
   "metadata": {},
   "source": [
    "<div class=\"alert alert-danger\">\n",
    "<b>Комментарий ревьюера ❌:</b> Нам необходимо работать инструментами PySpark. Так же стоит использовать программное заполнение пропусков,вдруг у нас изменятся данные:(\n",
    "\n",
    "Смотри, как можно сделать:</div>"
   ]
  },
  {
   "cell_type": "markdown",
   "metadata": {},
   "source": [
    "<div class=\"alert alert-info\"> <b>Комментарий студента:</b> Я, кстати, не нашел метода Spark для проверки пропусков. Подскажи пожалуйста) </div>"
   ]
  },
  {
   "cell_type": "markdown",
   "metadata": {},
   "source": [
    "<div class=\"alert alert-success\">\n",
    "<b>Комментарий ревьюера V2✔️:</b> Да конечно:) \n",
    "\n",
    "\n",
    "+  df.filter(df.total_bedrooms.isNull()).show()\n",
    "\n",
    "Так можно проверить пропуски в данных, но как ты это делал через pandas тоже нормально. Я имел ввиду, что заполнять пропуски лучше уже методами PySpark, потому что это эффективнее. Можно графики построить через toPandas, но именно изменение значений или работы с данными лучше проводить через pyspark:)</div>"
   ]
  },
  {
   "cell_type": "code",
   "execution_count": 75,
   "metadata": {},
   "outputs": [],
   "source": [
    "#КОД РЕВЬЮЕРА\n",
    "# mean = df_housing.select(F.mean('total_bedrooms')).collect()[0][0]\n",
    "# df_housing = df_housing.na.fill({'total_bedrooms': mean})"
   ]
  },
  {
   "cell_type": "code",
   "execution_count": 78,
   "metadata": {},
   "outputs": [
    {
     "data": {
      "text/plain": [
       "False"
      ]
     },
     "execution_count": 78,
     "metadata": {},
     "output_type": "execute_result"
    }
   ],
   "source": [
    "df.select('total_bedrooms').rdd.isEmpty()"
   ]
  },
  {
   "cell_type": "markdown",
   "metadata": {},
   "source": [
    "Получим среднее значение колонки total_bedrooms:"
   ]
  },
  {
   "cell_type": "code",
   "execution_count": 79,
   "metadata": {
    "scrolled": true
   },
   "outputs": [
    {
     "name": "stdout",
     "output_type": "stream",
     "text": [
      "Среднее значение колонки total_bedrooms: 537.8705525375618\n"
     ]
    }
   ],
   "source": [
    "mean_total_bedrooms = df.select(F.mean('total_bedrooms')).collect()[0][0]\n",
    "print('Среднее значение колонки total_bedrooms:', mean_total_bedrooms)"
   ]
  },
  {
   "cell_type": "markdown",
   "metadata": {},
   "source": [
    "Заменим полученным средним значением пропуски в колонке total_bedrooms:"
   ]
  },
  {
   "cell_type": "code",
   "execution_count": 80,
   "metadata": {},
   "outputs": [],
   "source": [
    "df = df.na.fill({'total_bedrooms': mean_total_bedrooms})"
   ]
  },
  {
   "cell_type": "markdown",
   "metadata": {},
   "source": [
    "Проверим количество пропусков после заполнения:"
   ]
  },
  {
   "cell_type": "code",
   "execution_count": 82,
   "metadata": {},
   "outputs": [
    {
     "data": {
      "text/plain": [
       "longitude             0.0\n",
       "latitude              0.0\n",
       "housing_median_age    0.0\n",
       "total_rooms           0.0\n",
       "total_bedrooms        0.0\n",
       "population            0.0\n",
       "households            0.0\n",
       "median_income         0.0\n",
       "median_house_value    0.0\n",
       "ocean_proximity       0.0\n",
       "dtype: float64"
      ]
     },
     "execution_count": 82,
     "metadata": {},
     "output_type": "execute_result"
    }
   ],
   "source": [
    "df.toPandas().isna().mean()"
   ]
  },
  {
   "cell_type": "markdown",
   "metadata": {},
   "source": [
    "<div class=\"alert alert-warning\">\n",
    "<b>Комментарий ревьюера ⚠️:</b> Хм...а откуда пропуски? </div>"
   ]
  },
  {
   "cell_type": "markdown",
   "metadata": {},
   "source": [
    "### Преобразование категориальных значений."
   ]
  },
  {
   "cell_type": "markdown",
   "metadata": {},
   "source": [
    "#### Метод StringIndexer"
   ]
  },
  {
   "cell_type": "markdown",
   "metadata": {},
   "source": [
    "Мы имеем только один категориальный признак - это колонка *ocean_proximity*. Продолжим работать с ней. Преобразуем текстовые значения этой колонки в числовые."
   ]
  },
  {
   "cell_type": "code",
   "execution_count": 11,
   "metadata": {},
   "outputs": [],
   "source": [
    "indexer = StringIndexer(inputCol = 'ocean_proximity', \n",
    "                        outputCol= 'ocean_proximity_idx') \n",
    "df_idx = indexer.fit(df).transform(df)\n",
    "df_idx = df_idx.drop('ocean_proximity')"
   ]
  },
  {
   "cell_type": "code",
   "execution_count": 12,
   "metadata": {
    "scrolled": true
   },
   "outputs": [
    {
     "data": {
      "text/html": [
       "<div>\n",
       "<style scoped>\n",
       "    .dataframe tbody tr th:only-of-type {\n",
       "        vertical-align: middle;\n",
       "    }\n",
       "\n",
       "    .dataframe tbody tr th {\n",
       "        vertical-align: top;\n",
       "    }\n",
       "\n",
       "    .dataframe thead th {\n",
       "        text-align: right;\n",
       "    }\n",
       "</style>\n",
       "<table border=\"1\" class=\"dataframe\">\n",
       "  <thead>\n",
       "    <tr style=\"text-align: right;\">\n",
       "      <th></th>\n",
       "      <th>longitude</th>\n",
       "      <th>latitude</th>\n",
       "      <th>housing_median_age</th>\n",
       "      <th>total_rooms</th>\n",
       "      <th>total_bedrooms</th>\n",
       "      <th>population</th>\n",
       "      <th>households</th>\n",
       "      <th>median_income</th>\n",
       "      <th>median_house_value</th>\n",
       "      <th>ocean_proximity_idx</th>\n",
       "    </tr>\n",
       "  </thead>\n",
       "  <tbody>\n",
       "    <tr>\n",
       "      <td>0</td>\n",
       "      <td>-122.23</td>\n",
       "      <td>37.88</td>\n",
       "      <td>41.0</td>\n",
       "      <td>880.0</td>\n",
       "      <td>129.0</td>\n",
       "      <td>322.0</td>\n",
       "      <td>126.0</td>\n",
       "      <td>8.3252</td>\n",
       "      <td>452600.0</td>\n",
       "      <td>3.0</td>\n",
       "    </tr>\n",
       "    <tr>\n",
       "      <td>1</td>\n",
       "      <td>-122.22</td>\n",
       "      <td>37.86</td>\n",
       "      <td>21.0</td>\n",
       "      <td>7099.0</td>\n",
       "      <td>1106.0</td>\n",
       "      <td>2401.0</td>\n",
       "      <td>1138.0</td>\n",
       "      <td>8.3014</td>\n",
       "      <td>358500.0</td>\n",
       "      <td>3.0</td>\n",
       "    </tr>\n",
       "    <tr>\n",
       "      <td>2</td>\n",
       "      <td>-122.24</td>\n",
       "      <td>37.85</td>\n",
       "      <td>52.0</td>\n",
       "      <td>1467.0</td>\n",
       "      <td>190.0</td>\n",
       "      <td>496.0</td>\n",
       "      <td>177.0</td>\n",
       "      <td>7.2574</td>\n",
       "      <td>352100.0</td>\n",
       "      <td>3.0</td>\n",
       "    </tr>\n",
       "    <tr>\n",
       "      <td>3</td>\n",
       "      <td>-122.25</td>\n",
       "      <td>37.85</td>\n",
       "      <td>52.0</td>\n",
       "      <td>1274.0</td>\n",
       "      <td>235.0</td>\n",
       "      <td>558.0</td>\n",
       "      <td>219.0</td>\n",
       "      <td>5.6431</td>\n",
       "      <td>341300.0</td>\n",
       "      <td>3.0</td>\n",
       "    </tr>\n",
       "    <tr>\n",
       "      <td>4</td>\n",
       "      <td>-122.25</td>\n",
       "      <td>37.85</td>\n",
       "      <td>52.0</td>\n",
       "      <td>1627.0</td>\n",
       "      <td>280.0</td>\n",
       "      <td>565.0</td>\n",
       "      <td>259.0</td>\n",
       "      <td>3.8462</td>\n",
       "      <td>342200.0</td>\n",
       "      <td>3.0</td>\n",
       "    </tr>\n",
       "  </tbody>\n",
       "</table>\n",
       "</div>"
      ],
      "text/plain": [
       "   longitude  latitude  housing_median_age  total_rooms  total_bedrooms  \\\n",
       "0    -122.23     37.88                41.0        880.0           129.0   \n",
       "1    -122.22     37.86                21.0       7099.0          1106.0   \n",
       "2    -122.24     37.85                52.0       1467.0           190.0   \n",
       "3    -122.25     37.85                52.0       1274.0           235.0   \n",
       "4    -122.25     37.85                52.0       1627.0           280.0   \n",
       "\n",
       "   population  households  median_income  median_house_value  \\\n",
       "0       322.0       126.0         8.3252            452600.0   \n",
       "1      2401.0      1138.0         8.3014            358500.0   \n",
       "2       496.0       177.0         7.2574            352100.0   \n",
       "3       558.0       219.0         5.6431            341300.0   \n",
       "4       565.0       259.0         3.8462            342200.0   \n",
       "\n",
       "   ocean_proximity_idx  \n",
       "0                  3.0  \n",
       "1                  3.0  \n",
       "2                  3.0  \n",
       "3                  3.0  \n",
       "4                  3.0  "
      ]
     },
     "execution_count": 12,
     "metadata": {},
     "output_type": "execute_result"
    }
   ],
   "source": [
    "df_idx.toPandas().head()"
   ]
  },
  {
   "cell_type": "markdown",
   "metadata": {},
   "source": [
    "**Вывод:** мы преобразовали категориальный признак *ocean_proximity* из строковых значений в числовые."
   ]
  },
  {
   "cell_type": "markdown",
   "metadata": {},
   "source": [
    "#### Метод OneHotEncoding."
   ]
  },
  {
   "cell_type": "markdown",
   "metadata": {},
   "source": [
    "Применим OneHotEncoder к уже трансформированным категориальным признакам:"
   ]
  },
  {
   "cell_type": "code",
   "execution_count": 13,
   "metadata": {},
   "outputs": [],
   "source": [
    "encoder = OneHotEncoder(inputCol = 'ocean_proximity_idx', \n",
    "                        outputCol= 'ocean_proximity_ohe')\n",
    "df_ohe = encoder.transform(df_idx)"
   ]
  },
  {
   "cell_type": "code",
   "execution_count": 14,
   "metadata": {},
   "outputs": [
    {
     "data": {
      "text/html": [
       "<div>\n",
       "<style scoped>\n",
       "    .dataframe tbody tr th:only-of-type {\n",
       "        vertical-align: middle;\n",
       "    }\n",
       "\n",
       "    .dataframe tbody tr th {\n",
       "        vertical-align: top;\n",
       "    }\n",
       "\n",
       "    .dataframe thead th {\n",
       "        text-align: right;\n",
       "    }\n",
       "</style>\n",
       "<table border=\"1\" class=\"dataframe\">\n",
       "  <thead>\n",
       "    <tr style=\"text-align: right;\">\n",
       "      <th></th>\n",
       "      <th>longitude</th>\n",
       "      <th>latitude</th>\n",
       "      <th>housing_median_age</th>\n",
       "      <th>total_rooms</th>\n",
       "      <th>total_bedrooms</th>\n",
       "      <th>population</th>\n",
       "      <th>households</th>\n",
       "      <th>median_income</th>\n",
       "      <th>median_house_value</th>\n",
       "      <th>ocean_proximity_idx</th>\n",
       "      <th>ocean_proximity_ohe</th>\n",
       "    </tr>\n",
       "  </thead>\n",
       "  <tbody>\n",
       "    <tr>\n",
       "      <td>0</td>\n",
       "      <td>-122.23</td>\n",
       "      <td>37.88</td>\n",
       "      <td>41.0</td>\n",
       "      <td>880.0</td>\n",
       "      <td>129.0</td>\n",
       "      <td>322.0</td>\n",
       "      <td>126.0</td>\n",
       "      <td>8.3252</td>\n",
       "      <td>452600.0</td>\n",
       "      <td>3.0</td>\n",
       "      <td>(0.0, 0.0, 0.0, 1.0)</td>\n",
       "    </tr>\n",
       "    <tr>\n",
       "      <td>1</td>\n",
       "      <td>-122.22</td>\n",
       "      <td>37.86</td>\n",
       "      <td>21.0</td>\n",
       "      <td>7099.0</td>\n",
       "      <td>1106.0</td>\n",
       "      <td>2401.0</td>\n",
       "      <td>1138.0</td>\n",
       "      <td>8.3014</td>\n",
       "      <td>358500.0</td>\n",
       "      <td>3.0</td>\n",
       "      <td>(0.0, 0.0, 0.0, 1.0)</td>\n",
       "    </tr>\n",
       "    <tr>\n",
       "      <td>2</td>\n",
       "      <td>-122.24</td>\n",
       "      <td>37.85</td>\n",
       "      <td>52.0</td>\n",
       "      <td>1467.0</td>\n",
       "      <td>190.0</td>\n",
       "      <td>496.0</td>\n",
       "      <td>177.0</td>\n",
       "      <td>7.2574</td>\n",
       "      <td>352100.0</td>\n",
       "      <td>3.0</td>\n",
       "      <td>(0.0, 0.0, 0.0, 1.0)</td>\n",
       "    </tr>\n",
       "    <tr>\n",
       "      <td>3</td>\n",
       "      <td>-122.25</td>\n",
       "      <td>37.85</td>\n",
       "      <td>52.0</td>\n",
       "      <td>1274.0</td>\n",
       "      <td>235.0</td>\n",
       "      <td>558.0</td>\n",
       "      <td>219.0</td>\n",
       "      <td>5.6431</td>\n",
       "      <td>341300.0</td>\n",
       "      <td>3.0</td>\n",
       "      <td>(0.0, 0.0, 0.0, 1.0)</td>\n",
       "    </tr>\n",
       "    <tr>\n",
       "      <td>4</td>\n",
       "      <td>-122.25</td>\n",
       "      <td>37.85</td>\n",
       "      <td>52.0</td>\n",
       "      <td>1627.0</td>\n",
       "      <td>280.0</td>\n",
       "      <td>565.0</td>\n",
       "      <td>259.0</td>\n",
       "      <td>3.8462</td>\n",
       "      <td>342200.0</td>\n",
       "      <td>3.0</td>\n",
       "      <td>(0.0, 0.0, 0.0, 1.0)</td>\n",
       "    </tr>\n",
       "  </tbody>\n",
       "</table>\n",
       "</div>"
      ],
      "text/plain": [
       "   longitude  latitude  housing_median_age  total_rooms  total_bedrooms  \\\n",
       "0    -122.23     37.88                41.0        880.0           129.0   \n",
       "1    -122.22     37.86                21.0       7099.0          1106.0   \n",
       "2    -122.24     37.85                52.0       1467.0           190.0   \n",
       "3    -122.25     37.85                52.0       1274.0           235.0   \n",
       "4    -122.25     37.85                52.0       1627.0           280.0   \n",
       "\n",
       "   population  households  median_income  median_house_value  \\\n",
       "0       322.0       126.0         8.3252            452600.0   \n",
       "1      2401.0      1138.0         8.3014            358500.0   \n",
       "2       496.0       177.0         7.2574            352100.0   \n",
       "3       558.0       219.0         5.6431            341300.0   \n",
       "4       565.0       259.0         3.8462            342200.0   \n",
       "\n",
       "   ocean_proximity_idx   ocean_proximity_ohe  \n",
       "0                  3.0  (0.0, 0.0, 0.0, 1.0)  \n",
       "1                  3.0  (0.0, 0.0, 0.0, 1.0)  \n",
       "2                  3.0  (0.0, 0.0, 0.0, 1.0)  \n",
       "3                  3.0  (0.0, 0.0, 0.0, 1.0)  \n",
       "4                  3.0  (0.0, 0.0, 0.0, 1.0)  "
      ]
     },
     "execution_count": 14,
     "metadata": {},
     "output_type": "execute_result"
    }
   ],
   "source": [
    "df_ohe.toPandas().head(5)"
   ]
  },
  {
   "cell_type": "markdown",
   "metadata": {},
   "source": [
    "**Вывод:** мы получили трансформированный признак с помощью метода OneHotEncoding."
   ]
  },
  {
   "cell_type": "markdown",
   "metadata": {},
   "source": [
    "#### Метод VectorAssembler."
   ]
  },
  {
   "cell_type": "code",
   "execution_count": 15,
   "metadata": {},
   "outputs": [],
   "source": [
    "categorical_cols = ['ocean_proximity_ohe']\n",
    "categorical_assembler = VectorAssembler(inputCols= categorical_cols, outputCol=\"categorical_features\")\n",
    "df_vect_ceteg = categorical_assembler.transform(df_ohe)"
   ]
  },
  {
   "cell_type": "markdown",
   "metadata": {},
   "source": [
    "<div class=\"alert alert-success\">\n",
    "<b>Комментарий ревьюера ✔️:</b> Все верно! Молодец!</div>"
   ]
  },
  {
   "cell_type": "markdown",
   "metadata": {},
   "source": [
    "### Преобразование числовых признаков"
   ]
  },
  {
   "cell_type": "markdown",
   "metadata": {},
   "source": [
    "#### Метод StandartScaler"
   ]
  },
  {
   "cell_type": "code",
   "execution_count": 16,
   "metadata": {},
   "outputs": [],
   "source": [
    "numerical_cols = ['longitude', 'latitude', 'housing_median_age', 'total_rooms', 'total_bedrooms', 'population', 'households', 'median_income']\n",
    "numerical_assembler = VectorAssembler(inputCols=numerical_cols, outputCol=\"numerical_features\")\n",
    "df_SS = numerical_assembler.transform(df_vect_ceteg) "
   ]
  },
  {
   "cell_type": "code",
   "execution_count": 17,
   "metadata": {},
   "outputs": [],
   "source": [
    "standardScaler = StandardScaler(inputCol='numerical_features', outputCol=\"numerical_features_scaled\")\n",
    "df_SS = standardScaler.fit(df_SS).transform(df_SS) "
   ]
  },
  {
   "cell_type": "code",
   "execution_count": 18,
   "metadata": {
    "scrolled": false
   },
   "outputs": [
    {
     "data": {
      "text/html": [
       "<div>\n",
       "<style scoped>\n",
       "    .dataframe tbody tr th:only-of-type {\n",
       "        vertical-align: middle;\n",
       "    }\n",
       "\n",
       "    .dataframe tbody tr th {\n",
       "        vertical-align: top;\n",
       "    }\n",
       "\n",
       "    .dataframe thead th {\n",
       "        text-align: right;\n",
       "    }\n",
       "</style>\n",
       "<table border=\"1\" class=\"dataframe\">\n",
       "  <thead>\n",
       "    <tr style=\"text-align: right;\">\n",
       "      <th></th>\n",
       "      <th>longitude</th>\n",
       "      <th>latitude</th>\n",
       "      <th>housing_median_age</th>\n",
       "      <th>total_rooms</th>\n",
       "      <th>total_bedrooms</th>\n",
       "      <th>population</th>\n",
       "      <th>households</th>\n",
       "      <th>median_income</th>\n",
       "      <th>median_house_value</th>\n",
       "      <th>ocean_proximity_idx</th>\n",
       "      <th>ocean_proximity_ohe</th>\n",
       "      <th>categorical_features</th>\n",
       "      <th>numerical_features</th>\n",
       "      <th>numerical_features_scaled</th>\n",
       "    </tr>\n",
       "  </thead>\n",
       "  <tbody>\n",
       "    <tr>\n",
       "      <td>0</td>\n",
       "      <td>-122.23</td>\n",
       "      <td>37.88</td>\n",
       "      <td>41.0</td>\n",
       "      <td>880.0</td>\n",
       "      <td>129.0</td>\n",
       "      <td>322.0</td>\n",
       "      <td>126.0</td>\n",
       "      <td>8.3252</td>\n",
       "      <td>452600.0</td>\n",
       "      <td>3.0</td>\n",
       "      <td>(0.0, 0.0, 0.0, 1.0)</td>\n",
       "      <td>(0.0, 0.0, 0.0, 1.0)</td>\n",
       "      <td>[-122.23, 37.88, 41.0, 880.0, 129.0, 322.0, 12...</td>\n",
       "      <td>[-61.00726959606955, 17.734477624640412, 3.257...</td>\n",
       "    </tr>\n",
       "    <tr>\n",
       "      <td>1</td>\n",
       "      <td>-122.22</td>\n",
       "      <td>37.86</td>\n",
       "      <td>21.0</td>\n",
       "      <td>7099.0</td>\n",
       "      <td>1106.0</td>\n",
       "      <td>2401.0</td>\n",
       "      <td>1138.0</td>\n",
       "      <td>8.3014</td>\n",
       "      <td>358500.0</td>\n",
       "      <td>3.0</td>\n",
       "      <td>(0.0, 0.0, 0.0, 1.0)</td>\n",
       "      <td>(0.0, 0.0, 0.0, 1.0)</td>\n",
       "      <td>[-122.22, 37.86, 21.0, 7099.0, 1106.0, 2401.0,...</td>\n",
       "      <td>[-61.002278409814444, 17.725114120086744, 1.66...</td>\n",
       "    </tr>\n",
       "    <tr>\n",
       "      <td>2</td>\n",
       "      <td>-122.24</td>\n",
       "      <td>37.85</td>\n",
       "      <td>52.0</td>\n",
       "      <td>1467.0</td>\n",
       "      <td>190.0</td>\n",
       "      <td>496.0</td>\n",
       "      <td>177.0</td>\n",
       "      <td>7.2574</td>\n",
       "      <td>352100.0</td>\n",
       "      <td>3.0</td>\n",
       "      <td>(0.0, 0.0, 0.0, 1.0)</td>\n",
       "      <td>(0.0, 0.0, 0.0, 1.0)</td>\n",
       "      <td>[-122.24, 37.85, 52.0, 1467.0, 190.0, 496.0, 1...</td>\n",
       "      <td>[-61.012260782324645, 17.720432367809913, 4.13...</td>\n",
       "    </tr>\n",
       "    <tr>\n",
       "      <td>3</td>\n",
       "      <td>-122.25</td>\n",
       "      <td>37.85</td>\n",
       "      <td>52.0</td>\n",
       "      <td>1274.0</td>\n",
       "      <td>235.0</td>\n",
       "      <td>558.0</td>\n",
       "      <td>219.0</td>\n",
       "      <td>5.6431</td>\n",
       "      <td>341300.0</td>\n",
       "      <td>3.0</td>\n",
       "      <td>(0.0, 0.0, 0.0, 1.0)</td>\n",
       "      <td>(0.0, 0.0, 0.0, 1.0)</td>\n",
       "      <td>[-122.25, 37.85, 52.0, 1274.0, 235.0, 558.0, 2...</td>\n",
       "      <td>[-61.01725196857974, 17.720432367809913, 4.131...</td>\n",
       "    </tr>\n",
       "    <tr>\n",
       "      <td>4</td>\n",
       "      <td>-122.25</td>\n",
       "      <td>37.85</td>\n",
       "      <td>52.0</td>\n",
       "      <td>1627.0</td>\n",
       "      <td>280.0</td>\n",
       "      <td>565.0</td>\n",
       "      <td>259.0</td>\n",
       "      <td>3.8462</td>\n",
       "      <td>342200.0</td>\n",
       "      <td>3.0</td>\n",
       "      <td>(0.0, 0.0, 0.0, 1.0)</td>\n",
       "      <td>(0.0, 0.0, 0.0, 1.0)</td>\n",
       "      <td>[-122.25, 37.85, 52.0, 1627.0, 280.0, 565.0, 2...</td>\n",
       "      <td>[-61.01725196857974, 17.720432367809913, 4.131...</td>\n",
       "    </tr>\n",
       "  </tbody>\n",
       "</table>\n",
       "</div>"
      ],
      "text/plain": [
       "   longitude  latitude  housing_median_age  total_rooms  total_bedrooms  \\\n",
       "0    -122.23     37.88                41.0        880.0           129.0   \n",
       "1    -122.22     37.86                21.0       7099.0          1106.0   \n",
       "2    -122.24     37.85                52.0       1467.0           190.0   \n",
       "3    -122.25     37.85                52.0       1274.0           235.0   \n",
       "4    -122.25     37.85                52.0       1627.0           280.0   \n",
       "\n",
       "   population  households  median_income  median_house_value  \\\n",
       "0       322.0       126.0         8.3252            452600.0   \n",
       "1      2401.0      1138.0         8.3014            358500.0   \n",
       "2       496.0       177.0         7.2574            352100.0   \n",
       "3       558.0       219.0         5.6431            341300.0   \n",
       "4       565.0       259.0         3.8462            342200.0   \n",
       "\n",
       "   ocean_proximity_idx   ocean_proximity_ohe  categorical_features  \\\n",
       "0                  3.0  (0.0, 0.0, 0.0, 1.0)  (0.0, 0.0, 0.0, 1.0)   \n",
       "1                  3.0  (0.0, 0.0, 0.0, 1.0)  (0.0, 0.0, 0.0, 1.0)   \n",
       "2                  3.0  (0.0, 0.0, 0.0, 1.0)  (0.0, 0.0, 0.0, 1.0)   \n",
       "3                  3.0  (0.0, 0.0, 0.0, 1.0)  (0.0, 0.0, 0.0, 1.0)   \n",
       "4                  3.0  (0.0, 0.0, 0.0, 1.0)  (0.0, 0.0, 0.0, 1.0)   \n",
       "\n",
       "                                  numerical_features  \\\n",
       "0  [-122.23, 37.88, 41.0, 880.0, 129.0, 322.0, 12...   \n",
       "1  [-122.22, 37.86, 21.0, 7099.0, 1106.0, 2401.0,...   \n",
       "2  [-122.24, 37.85, 52.0, 1467.0, 190.0, 496.0, 1...   \n",
       "3  [-122.25, 37.85, 52.0, 1274.0, 235.0, 558.0, 2...   \n",
       "4  [-122.25, 37.85, 52.0, 1627.0, 280.0, 565.0, 2...   \n",
       "\n",
       "                           numerical_features_scaled  \n",
       "0  [-61.00726959606955, 17.734477624640412, 3.257...  \n",
       "1  [-61.002278409814444, 17.725114120086744, 1.66...  \n",
       "2  [-61.012260782324645, 17.720432367809913, 4.13...  \n",
       "3  [-61.01725196857974, 17.720432367809913, 4.131...  \n",
       "4  [-61.01725196857974, 17.720432367809913, 4.131...  "
      ]
     },
     "execution_count": 18,
     "metadata": {},
     "output_type": "execute_result"
    }
   ],
   "source": [
    "df_SS.toPandas().head()"
   ]
  },
  {
   "cell_type": "markdown",
   "metadata": {},
   "source": [
    "<div class=\"alert alert-success\">\n",
    "<b>Комментарий ревьюера ✔️:</b> С числовыми признаками тоже порядок;)</div>"
   ]
  },
  {
   "cell_type": "markdown",
   "metadata": {},
   "source": [
    "### Итоговая сборка признаков"
   ]
  },
  {
   "cell_type": "markdown",
   "metadata": {},
   "source": [
    "Так как обучение модели будем проводить на двух группах признаков: 1.все признаки, 2.только числовые, нам  нужно получить две соответствующие итоговые сборки признаков."
   ]
  },
  {
   "cell_type": "markdown",
   "metadata": {},
   "source": [
    "#### Всех признаков"
   ]
  },
  {
   "cell_type": "markdown",
   "metadata": {},
   "source": [
    "Соберем трансформированные категориальные и числовые признаки признаки с помощью VectorAssembler:"
   ]
  },
  {
   "cell_type": "code",
   "execution_count": 19,
   "metadata": {
    "scrolled": true
   },
   "outputs": [
    {
     "name": "stdout",
     "output_type": "stream",
     "text": [
      "+--------------------+-------------------------+\n",
      "|categorical_features|numerical_features_scaled|\n",
      "+--------------------+-------------------------+\n",
      "|       (4,[3],[1.0])|     [-61.007269596069...|\n",
      "|       (4,[3],[1.0])|     [-61.002278409814...|\n",
      "|       (4,[3],[1.0])|     [-61.012260782324...|\n",
      "+--------------------+-------------------------+\n",
      "only showing top 3 rows\n",
      "\n"
     ]
    }
   ],
   "source": [
    "all_features = ['categorical_features','numerical_features_scaled']\n",
    "\n",
    "final_assembler_all = VectorAssembler(inputCols=all_features, \n",
    "                                  outputCol=\"all_features\") \n",
    "df_transf_all = final_assembler_all.transform(df_SS)\n",
    "\n",
    "df_SS.select(all_features).show(3) "
   ]
  },
  {
   "cell_type": "markdown",
   "metadata": {},
   "source": [
    "**Вывод:** мы получили датафрейм из всех признаков готовый для обучения модели."
   ]
  },
  {
   "cell_type": "markdown",
   "metadata": {},
   "source": [
    "#### Только числовых признаков"
   ]
  },
  {
   "cell_type": "code",
   "execution_count": 20,
   "metadata": {
    "scrolled": true
   },
   "outputs": [
    {
     "name": "stdout",
     "output_type": "stream",
     "text": [
      "+-------------------------+\n",
      "|numerical_features_scaled|\n",
      "+-------------------------+\n",
      "|     [-61.007269596069...|\n",
      "|     [-61.002278409814...|\n",
      "|     [-61.012260782324...|\n",
      "+-------------------------+\n",
      "only showing top 3 rows\n",
      "\n"
     ]
    }
   ],
   "source": [
    "numeric_features = ['numerical_features_scaled']\n",
    "\n",
    "\n",
    "\n",
    "final_assembler_numeric = VectorAssembler(inputCols=numeric_features, \n",
    "                                  outputCol=\"numeric_features\") \n",
    "df_transf_numeric = final_assembler_numeric.transform(df_SS)\n",
    "\n",
    "df_SS.select(numeric_features).show(3) "
   ]
  },
  {
   "cell_type": "markdown",
   "metadata": {},
   "source": [
    "**Вывод:** мы получили датафрейм только из числовых признаков готовый для обучения модели."
   ]
  },
  {
   "cell_type": "markdown",
   "metadata": {
    "id": "9f0a82f3"
   },
   "source": [
    "## Обучение моделей"
   ]
  },
  {
   "cell_type": "markdown",
   "metadata": {},
   "source": [
    "### Разделение дата-сета на выборки"
   ]
  },
  {
   "cell_type": "markdown",
   "metadata": {},
   "source": [
    "#### Все признаки"
   ]
  },
  {
   "cell_type": "code",
   "execution_count": 21,
   "metadata": {
    "id": "bddb08c4",
    "scrolled": true
   },
   "outputs": [
    {
     "name": "stdout",
     "output_type": "stream",
     "text": [
      "Количество объектов в обучающей выборке: 16554\n",
      "Количество объектов в тестовой выборке: 4086\n"
     ]
    }
   ],
   "source": [
    "train, test = df_transf_all.randomSplit([.8,.2], seed=RANDOM_SEED)\n",
    "print('Количество объектов в обучающей выборке:', train.count())\n",
    "print('Количество объектов в тестовой выборке:', test.count())"
   ]
  },
  {
   "cell_type": "markdown",
   "metadata": {},
   "source": [
    "#### Только числовые признаки"
   ]
  },
  {
   "cell_type": "code",
   "execution_count": 22,
   "metadata": {},
   "outputs": [
    {
     "name": "stdout",
     "output_type": "stream",
     "text": [
      "Количество объектов в обучающей выборке(числовые признаки): 16554\n",
      "Количество объектов в тестовой выборке(числовые признаки): 4086\n"
     ]
    }
   ],
   "source": [
    "#df_transf_numeric = df_transf.drop('categorical_features')\n",
    "train_num, test_num = df_transf_numeric.randomSplit([.8,.2], seed=RANDOM_SEED)\n",
    "print('Количество объектов в обучающей выборке(числовые признаки):', train_num.count())\n",
    "print('Количество объектов в тестовой выборке(числовые признаки):', test_num.count())"
   ]
  },
  {
   "cell_type": "markdown",
   "metadata": {},
   "source": [
    "### Обучение модели"
   ]
  },
  {
   "cell_type": "markdown",
   "metadata": {},
   "source": [
    "#### Обучение на всех признаках"
   ]
  },
  {
   "cell_type": "markdown",
   "metadata": {},
   "source": [
    "По заданию нам нужно предсказать медианную стоимость дома, поэтому целевой переменой будет *median_house_value*:"
   ]
  },
  {
   "cell_type": "code",
   "execution_count": 23,
   "metadata": {},
   "outputs": [],
   "source": [
    "target = 'median_house_value'"
   ]
  },
  {
   "cell_type": "markdown",
   "metadata": {},
   "source": [
    "Создаем модель Линейной регрессии со стандартными гиперпараметрами:"
   ]
  },
  {
   "cell_type": "code",
   "execution_count": 24,
   "metadata": {},
   "outputs": [],
   "source": [
    "lr = LinearRegression(featuresCol = \"all_features\", labelCol = target)"
   ]
  },
  {
   "cell_type": "markdown",
   "metadata": {},
   "source": [
    "Создаем сетку для подбора гиперпараметров методо GridSearch:"
   ]
  },
  {
   "cell_type": "code",
   "execution_count": 25,
   "metadata": {},
   "outputs": [],
   "source": [
    "grid_search = ParamGridBuilder() \\\n",
    ".addGrid(lr.regParam, [0.0, 0.01, 0.1]) \\\n",
    ".addGrid(lr.fitIntercept, [False, True])\\\n",
    ".addGrid(lr.elasticNetParam, [0.5, 1.0]) \\\n",
    ".build()"
   ]
  },
  {
   "cell_type": "markdown",
   "metadata": {},
   "source": [
    "Создаем оценщик качества модели:"
   ]
  },
  {
   "cell_type": "code",
   "execution_count": 26,
   "metadata": {},
   "outputs": [],
   "source": [
    "evaluator = RegressionEvaluator(predictionCol='prediction',\n",
    "                                labelCol='median_house_value')"
   ]
  },
  {
   "cell_type": "markdown",
   "metadata": {},
   "source": [
    "<div class=\"alert alert-success\">\n",
    "<b>Комментарий ревьюера ✔️:</b> Можно было бы просто target передать:)</div>"
   ]
  },
  {
   "cell_type": "markdown",
   "metadata": {},
   "source": [
    "Создаем объект Кросс-валидации и обучаем его:"
   ]
  },
  {
   "cell_type": "code",
   "execution_count": 27,
   "metadata": {},
   "outputs": [],
   "source": [
    "cv = CrossValidator(estimator = lr,\n",
    "                    estimatorParamMaps = grid_search,\n",
    "                    numFolds = 3,\n",
    "                    evaluator = evaluator)\n",
    "cv_model = cv.fit(train)"
   ]
  },
  {
   "cell_type": "markdown",
   "metadata": {},
   "source": [
    "Получим гиперпараметры наулучшей модели:"
   ]
  },
  {
   "cell_type": "code",
   "execution_count": 28,
   "metadata": {},
   "outputs": [
    {
     "data": {
      "text/plain": [
       "{Param(parent='LinearRegression_12841763880c', name='aggregationDepth', doc='suggested depth for treeAggregate (>= 2)'): 2,\n",
       " Param(parent='LinearRegression_12841763880c', name='elasticNetParam', doc='the ElasticNet mixing parameter, in range [0, 1]. For alpha = 0, the penalty is an L2 penalty. For alpha = 1, it is an L1 penalty'): 0.5,\n",
       " Param(parent='LinearRegression_12841763880c', name='epsilon', doc='The shape parameter to control the amount of robustness. Must be > 1.0.'): 1.35,\n",
       " Param(parent='LinearRegression_12841763880c', name='featuresCol', doc='features column name'): 'all_features',\n",
       " Param(parent='LinearRegression_12841763880c', name='fitIntercept', doc='whether to fit an intercept term'): True,\n",
       " Param(parent='LinearRegression_12841763880c', name='labelCol', doc='label column name'): 'median_house_value',\n",
       " Param(parent='LinearRegression_12841763880c', name='loss', doc='The loss function to be optimized. Supported options: squaredError, huber. (Default squaredError)'): 'squaredError',\n",
       " Param(parent='LinearRegression_12841763880c', name='maxIter', doc='maximum number of iterations (>= 0)'): 100,\n",
       " Param(parent='LinearRegression_12841763880c', name='predictionCol', doc='prediction column name'): 'prediction',\n",
       " Param(parent='LinearRegression_12841763880c', name='regParam', doc='regularization parameter (>= 0)'): 0.0,\n",
       " Param(parent='LinearRegression_12841763880c', name='solver', doc='The solver algorithm for optimization. Supported options: auto, normal, l-bfgs. (Default auto)'): 'auto',\n",
       " Param(parent='LinearRegression_12841763880c', name='standardization', doc='whether to standardize the training features before fitting the model'): True,\n",
       " Param(parent='LinearRegression_12841763880c', name='tol', doc='the convergence tolerance for iterative algorithms (>= 0)'): 1e-06}"
      ]
     },
     "execution_count": 28,
     "metadata": {},
     "output_type": "execute_result"
    }
   ],
   "source": [
    "cv_model.bestModel.extractParamMap()"
   ]
  },
  {
   "cell_type": "markdown",
   "metadata": {},
   "source": [
    "Создадим модель с наилучшими подобранными гиперпараметрами:"
   ]
  },
  {
   "cell_type": "code",
   "execution_count": 29,
   "metadata": {},
   "outputs": [],
   "source": [
    "lr_best_param = LinearRegression(featuresCol = \"all_features\",\n",
    "                                 labelCol = target,\n",
    "                                 elasticNetParam=0.5,\n",
    "                                 aggregationDepth=2,\n",
    "                                 epsilon = 1.35,\n",
    "                                 fitIntercept = True,\n",
    "                                 maxIter = 100,\n",
    "                                 regParam = 0.0,\n",
    "                                 solver = 'auto')"
   ]
  },
  {
   "cell_type": "markdown",
   "metadata": {},
   "source": [
    "Обучаем модель со стандартными гиперпараметрами:"
   ]
  },
  {
   "cell_type": "code",
   "execution_count": 30,
   "metadata": {},
   "outputs": [],
   "source": [
    "model_all_features = lr.fit(train)"
   ]
  },
  {
   "cell_type": "markdown",
   "metadata": {},
   "source": [
    "Обучаем модель с наилучшими подобранными гиперпараметрами:"
   ]
  },
  {
   "cell_type": "code",
   "execution_count": 31,
   "metadata": {},
   "outputs": [],
   "source": [
    "model_best_param = lr_best_param.fit(train)"
   ]
  },
  {
   "cell_type": "markdown",
   "metadata": {},
   "source": [
    "Предсказываем результат:"
   ]
  },
  {
   "cell_type": "code",
   "execution_count": 32,
   "metadata": {
    "scrolled": true
   },
   "outputs": [
    {
     "name": "stdout",
     "output_type": "stream",
     "text": [
      "+------------------+------------------+\n",
      "|median_house_value|        prediction|\n",
      "+------------------+------------------+\n",
      "|           76100.0|171646.12974944245|\n",
      "|           78300.0|127375.28285254305|\n",
      "|           58100.0|142073.35934247775|\n",
      "|           70000.0| 149523.9222311112|\n",
      "|          128900.0| 207300.0237673507|\n",
      "|           81300.0|152068.00200302666|\n",
      "|          109400.0|169228.80627002753|\n",
      "|           90600.0|181385.70511805313|\n",
      "|           76900.0|164196.27340133954|\n",
      "|           75500.0|137998.65138673224|\n",
      "|           69500.0|111793.80033818958|\n",
      "|           79600.0|161239.54269032646|\n",
      "|           90000.0|209951.97280307626|\n",
      "|           74100.0|156986.13726222143|\n",
      "|           57500.0| 140226.6404422829|\n",
      "|          130600.0| 217530.1782125649|\n",
      "|           72600.0|161738.97243869165|\n",
      "|           74100.0|165478.50015912717|\n",
      "|           96100.0|156466.30361996684|\n",
      "|           90200.0| 153841.0831974405|\n",
      "+------------------+------------------+\n",
      "only showing top 20 rows\n",
      "\n"
     ]
    }
   ],
   "source": [
    "predictions_all_features = model_all_features.transform(test)\n",
    "\n",
    "predicted_all_features = predictions_all_features.select(\"median_house_value\", \"prediction\")\n",
    "predicted_all_features.show() "
   ]
  },
  {
   "cell_type": "code",
   "execution_count": 33,
   "metadata": {},
   "outputs": [],
   "source": [
    "pred_all_feat_cross = cv_model.transform(test)"
   ]
  },
  {
   "cell_type": "code",
   "execution_count": 34,
   "metadata": {},
   "outputs": [],
   "source": [
    "pred_model_best_param = model_best_param.transform(test)"
   ]
  },
  {
   "cell_type": "markdown",
   "metadata": {},
   "source": [
    "**Вывод:** мы получили предсказние *median_house_value* медианной стоимости дома на всех признаках и на трех видах моделей."
   ]
  },
  {
   "cell_type": "markdown",
   "metadata": {},
   "source": [
    "#### Обучение только на числовых признаках"
   ]
  },
  {
   "cell_type": "markdown",
   "metadata": {},
   "source": [
    "Создаем и обучаем модель только на числовых признаках:"
   ]
  },
  {
   "cell_type": "code",
   "execution_count": 35,
   "metadata": {},
   "outputs": [],
   "source": [
    "lr_numeric = LinearRegression(featuresCol = \"numerical_features_scaled\", labelCol = target)\n",
    "model_numeric_features = lr_numeric.fit(train_num)"
   ]
  },
  {
   "cell_type": "markdown",
   "metadata": {},
   "source": [
    "Предсказываем:"
   ]
  },
  {
   "cell_type": "code",
   "execution_count": 36,
   "metadata": {},
   "outputs": [
    {
     "name": "stdout",
     "output_type": "stream",
     "text": [
      "+------------------+------------------+\n",
      "|median_house_value|        prediction|\n",
      "+------------------+------------------+\n",
      "|           76100.0|149425.01001097355|\n",
      "|           78300.0|  78918.6962352586|\n",
      "|           58100.0|110388.97210616898|\n",
      "|           70000.0| 117184.5786861335|\n",
      "|          128900.0|  174679.027362579|\n",
      "|           81300.0|  118798.756991236|\n",
      "|          109400.0|117886.39644013066|\n",
      "|           90600.0|149207.26721515693|\n",
      "|           76900.0|132371.30673502292|\n",
      "|           75500.0|100172.39995250152|\n",
      "|           69500.0| 60567.62256565364|\n",
      "|           79600.0| 131541.4082576665|\n",
      "|           90000.0| 177692.2798895021|\n",
      "|           74100.0|124469.98564581526|\n",
      "|           57500.0|105237.25563357025|\n",
      "|          130600.0|186877.76854795124|\n",
      "|           72600.0|128340.66694435757|\n",
      "|           74100.0|139126.50617154222|\n",
      "|           96100.0|121525.60722429026|\n",
      "|           90200.0|116327.27074512793|\n",
      "+------------------+------------------+\n",
      "only showing top 20 rows\n",
      "\n"
     ]
    }
   ],
   "source": [
    "predictions_numeric_features = model_numeric_features.transform(test_num)\n",
    "\n",
    "predicted_numeric_features = predictions_numeric_features.select(\"median_house_value\", \"prediction\")\n",
    "predicted_numeric_features.show() "
   ]
  },
  {
   "cell_type": "markdown",
   "metadata": {},
   "source": [
    "**Вывод:** мы получили предсказние median_house_value медианной стоимости дома только на числовых признаках на модели со стандартными параметрами."
   ]
  },
  {
   "cell_type": "markdown",
   "metadata": {},
   "source": [
    "## Оценка качества моделей"
   ]
  },
  {
   "cell_type": "markdown",
   "metadata": {},
   "source": [
    "Оценим качество моделей по метрикам RMSE, MAE и R2, и сравним точность результата предсказания на всех признаках и только числовых признаках."
   ]
  },
  {
   "cell_type": "markdown",
   "metadata": {},
   "source": [
    "### На всех признаках"
   ]
  },
  {
   "cell_type": "markdown",
   "metadata": {},
   "source": [
    "Оценки качества модели со стандартными гиперпараметрами:"
   ]
  },
  {
   "cell_type": "code",
   "execution_count": 37,
   "metadata": {
    "scrolled": true
   },
   "outputs": [
    {
     "name": "stdout",
     "output_type": "stream",
     "text": [
      "RMSE модели обученной на всех признаках: 69037.84375765473\n",
      "MAE модели обученной на всех признаках: 50168.6556177571\n",
      "Качество модели: 0.6427516420087133\n"
     ]
    }
   ],
   "source": [
    "metrics_all_features = model_all_features.summary\n",
    "RMSE_all = metrics_all_features.rootMeanSquaredError\n",
    "MAE_all = metrics_all_features.meanAbsoluteError\n",
    "R2_all = metrics_all_features.r2\n",
    "print('RMSE модели обученной на всех признаках:', RMSE_all)\n",
    "print('MAE модели обученной на всех признаках:', MAE_all)\n",
    "print('Качество модели:', R2_all)"
   ]
  },
  {
   "cell_type": "markdown",
   "metadata": {},
   "source": [
    "Качество модели с применением кросс-валидации:"
   ]
  },
  {
   "cell_type": "code",
   "execution_count": 38,
   "metadata": {},
   "outputs": [
    {
     "name": "stdout",
     "output_type": "stream",
     "text": [
      "69037.84375765473\n",
      "50168.6556177571\n",
      "0.6427516420087133\n"
     ]
    }
   ],
   "source": [
    "RMSE_cross = cv_model.bestModel.summary.rootMeanSquaredError\n",
    "MAE_cross = cv_model.bestModel.summary.meanAbsoluteError\n",
    "R2_cross = cv_model.bestModel.summary.r2\n",
    "print(RMSE_cross)\n",
    "print(MAE_cross)\n",
    "print(R2_cross)"
   ]
  },
  {
   "cell_type": "markdown",
   "metadata": {},
   "source": [
    "Качество модели с наилучшими подобранными гиперпараметрами:"
   ]
  },
  {
   "cell_type": "code",
   "execution_count": 39,
   "metadata": {},
   "outputs": [
    {
     "name": "stdout",
     "output_type": "stream",
     "text": [
      "RMSE модели обученной на всех признаках: 69037.84375765473\n",
      "MAE модели обученной на всех признаках: 50168.6556177571\n",
      "Качество модели: 0.6427516420087133\n"
     ]
    }
   ],
   "source": [
    "metrics_best_model = model_best_param.summary\n",
    "RMSE_best = metrics_best_model.rootMeanSquaredError\n",
    "MAE_best = metrics_best_model.meanAbsoluteError\n",
    "R2_best = metrics_best_model.r2\n",
    "print('RMSE модели обученной на всех признаках:', RMSE_best)\n",
    "print('MAE модели обученной на всех признаках:', MAE_best)\n",
    "print('Качество модели:', R2_best)                             "
   ]
  },
  {
   "cell_type": "markdown",
   "metadata": {},
   "source": [
    "### Только на числовых признаках"
   ]
  },
  {
   "cell_type": "code",
   "execution_count": 40,
   "metadata": {},
   "outputs": [
    {
     "name": "stdout",
     "output_type": "stream",
     "text": [
      "RMSE модели обученной только на числовых признаках: 69988.98575138253\n",
      "MAE модели обученной только на числовых признаках: 51245.2958386423\n",
      "Качество модели: 0.6328401330161523\n"
     ]
    }
   ],
   "source": [
    "metrics_numeric_features = model_numeric_features.summary\n",
    "RMSE_num = metrics_numeric_features.rootMeanSquaredError\n",
    "MAE_num = metrics_numeric_features.meanAbsoluteError\n",
    "R2_num = metrics_numeric_features.r2\n",
    "print('RMSE модели обученной только на числовых признаках:', RMSE_num)\n",
    "print('MAE модели обученной только на числовых признаках:', MAE_num)\n",
    "print('Качество модели:', R2_num)"
   ]
  },
  {
   "cell_type": "markdown",
   "metadata": {
    "id": "757fd103"
   },
   "source": [
    "## Анализ результатов"
   ]
  },
  {
   "cell_type": "markdown",
   "metadata": {},
   "source": [
    "В целом модели показали удовлетворительный результат. Мы видим, что качество предсказаний модели обученной на всех признаках выше чем модель обученная только на числовых признаках, но незначительно - около 1%(при абсолютном качестве 64%). Выведем числовую описательную статистику: "
   ]
  },
  {
   "cell_type": "code",
   "execution_count": 41,
   "metadata": {},
   "outputs": [
    {
     "data": {
      "text/plain": [
       "[Row(summary='count', median_house_value='20640'),\n",
       " Row(summary='mean', median_house_value='206855.81690891474'),\n",
       " Row(summary='stddev', median_house_value='115395.61587441359'),\n",
       " Row(summary='min', median_house_value='14999.0'),\n",
       " Row(summary='max', median_house_value='500001.0')]"
      ]
     },
     "execution_count": 41,
     "metadata": {},
     "output_type": "execute_result"
    }
   ],
   "source": [
    "df.describe('median_house_value').collect()"
   ]
  },
  {
   "cell_type": "markdown",
   "metadata": {},
   "source": [
    "При сравнении RMSE = 69037 со средним 206855, минимальным  14999 и максимальным 500001 значениями, можно сделать вывод, что разброс достаточно большой."
   ]
  },
  {
   "cell_type": "markdown",
   "metadata": {},
   "source": [
    "<div class=\"alert alert-block alert-info\">\n",
    "Экспериментировал с разными моделями: стандартная, с кросс-валидацией, с улучшенными гиперапараметрами, но результаты идентичны. Не могу разобраться в чем причина?\n",
    "</div>"
   ]
  },
  {
   "cell_type": "markdown",
   "metadata": {},
   "source": [
    "<div class=\"alert alert-success\">\n",
    "<b>Комментарий ревьюера ✔️:</b> с кросс-валидацией, с улучшенными гиперапараметрами - эта одна и та же модель, ты просто на кросс-валидации уже нашел самую лучшую, а после сам же определил ее же и назвал lr_best_param:)</div>"
   ]
  },
  {
   "cell_type": "code",
   "execution_count": 42,
   "metadata": {},
   "outputs": [
    {
     "data": {
      "text/plain": [
       "array([-138792.06802268, -179071.45119988, -134701.37384463,\n",
       "       -143019.03953433,  -53579.01347211,  -54608.12122266,\n",
       "         12840.11943304,   -6891.76449305,   25805.30920697,\n",
       "        -50709.80255407,   35727.85543855,   72224.70325287])"
      ]
     },
     "execution_count": 42,
     "metadata": {},
     "output_type": "execute_result"
    }
   ],
   "source": [
    "model_all_features.coefficients.toArray()"
   ]
  },
  {
   "cell_type": "code",
   "execution_count": 43,
   "metadata": {},
   "outputs": [
    {
     "data": {
      "text/plain": [
       "array([-138792.06802268, -179071.45119988, -134701.37384463,\n",
       "       -143019.03953433,  -53579.01347211,  -54608.12122266,\n",
       "         12840.11943304,   -6891.76449305,   25805.30920697,\n",
       "        -50709.80255407,   35727.85543855,   72224.70325287])"
      ]
     },
     "execution_count": 43,
     "metadata": {},
     "output_type": "execute_result"
    }
   ],
   "source": [
    "model_best_param.coefficients.toArray()"
   ]
  },
  {
   "cell_type": "markdown",
   "metadata": {},
   "source": [
    "<div class=\"alert alert-success\">\n",
    "<b>Комментарий ревьюера ✔️:</b> Хм...у этих моделей, одинаковые веса получились -> одинаково обучились</div>"
   ]
  },
  {
   "cell_type": "markdown",
   "metadata": {},
   "source": [
    "<font color='blue'><b>Итоговый комментарий ревьюера</b></font>\n",
    "<div class=\"alert alert-success\">\n",
    "<b>Комментарий ревьюера ✔️:</b>Александр, спасибо за отличный проект! Видно, что долго работал над ним! \n",
    "Если есть какие либо вопросы я с удовольствием на них отвечу:) <br> Исправь, пожалуйста, замечания и жду проект на следующую проверку, осталось чуть-чуть:) </div>\n"
   ]
  },
  {
   "cell_type": "markdown",
   "metadata": {},
   "source": [
    "<div class=\"alert alert-info\"> <b>Комментарий студента:</b> Александр, спасибо за подробное ревью. Недочеты исправил. Вопрос задал в разделе: заполнения пропусков средним) </div>"
   ]
  },
  {
   "cell_type": "markdown",
   "metadata": {},
   "source": [
    "<div class=\"alert alert-success\">\n",
    "<b>Комментарий ревьюера V2✔️:</b>Ответил, надеюсь все понятно:) Удачи в следующих проектах!!!</div>"
   ]
  }
 ],
 "metadata": {
  "ExecuteTimeLog": [
   {
    "duration": 1301,
    "start_time": "2022-01-31T23:25:36.911Z"
   },
   {
    "duration": 86,
    "start_time": "2022-01-31T23:33:58.259Z"
   },
   {
    "duration": 89,
    "start_time": "2022-01-31T23:34:30.060Z"
   },
   {
    "duration": 241,
    "start_time": "2022-01-31T23:36:38.720Z"
   },
   {
    "duration": 270,
    "start_time": "2022-01-31T23:39:07.379Z"
   },
   {
    "duration": 4,
    "start_time": "2022-01-31T23:39:22.511Z"
   },
   {
    "duration": 250,
    "start_time": "2022-01-31T23:39:40.390Z"
   },
   {
    "duration": 95,
    "start_time": "2022-01-31T23:41:05.270Z"
   },
   {
    "duration": 15,
    "start_time": "2022-01-31T23:41:38.073Z"
   },
   {
    "duration": 5,
    "start_time": "2022-01-31T23:43:10.131Z"
   },
   {
    "duration": 256,
    "start_time": "2022-01-31T23:43:29.610Z"
   },
   {
    "duration": 5,
    "start_time": "2022-01-31T23:43:35.949Z"
   },
   {
    "duration": 14291,
    "start_time": "2022-01-31T23:52:12.019Z"
   },
   {
    "duration": 4721,
    "start_time": "2022-01-31T23:58:18.040Z"
   },
   {
    "duration": 660,
    "start_time": "2022-01-31T23:59:18.040Z"
   },
   {
    "duration": 659,
    "start_time": "2022-01-31T23:59:30.176Z"
   },
   {
    "duration": 682,
    "start_time": "2022-01-31T23:59:47.910Z"
   },
   {
    "duration": 679,
    "start_time": "2022-02-01T00:00:09.040Z"
   },
   {
    "duration": 751,
    "start_time": "2022-02-01T00:02:35.770Z"
   },
   {
    "duration": 235,
    "start_time": "2022-02-01T00:03:46.870Z"
   },
   {
    "duration": 656,
    "start_time": "2022-02-01T00:03:51.549Z"
   },
   {
    "duration": 664,
    "start_time": "2022-02-01T00:04:31.360Z"
   },
   {
    "duration": 4,
    "start_time": "2022-02-01T00:11:52.070Z"
   },
   {
    "duration": 2518,
    "start_time": "2022-02-01T00:15:06.431Z"
   },
   {
    "duration": 75,
    "start_time": "2022-02-01T00:16:01.433Z"
   },
   {
    "duration": 3959,
    "start_time": "2022-02-01T00:16:55.290Z"
   },
   {
    "duration": 2602,
    "start_time": "2022-02-01T00:26:35.522Z"
   },
   {
    "duration": 412,
    "start_time": "2022-02-01T00:26:49.160Z"
   },
   {
    "duration": 878,
    "start_time": "2022-02-01T00:27:28.260Z"
   },
   {
    "duration": 369,
    "start_time": "2022-02-01T00:27:48.760Z"
   },
   {
    "duration": 327,
    "start_time": "2022-02-01T00:28:13.200Z"
   },
   {
    "duration": 319,
    "start_time": "2022-02-01T00:29:01.121Z"
   },
   {
    "duration": 307,
    "start_time": "2022-02-01T00:29:13.121Z"
   },
   {
    "duration": 287,
    "start_time": "2022-02-01T00:31:46.660Z"
   },
   {
    "duration": 1130,
    "start_time": "2022-02-01T00:32:35.470Z"
   },
   {
    "duration": 552,
    "start_time": "2022-02-01T00:32:45.220Z"
   },
   {
    "duration": 869,
    "start_time": "2022-02-01T00:33:07.560Z"
   },
   {
    "duration": 250,
    "start_time": "2022-02-01T00:34:34.621Z"
   },
   {
    "duration": 1437,
    "start_time": "2022-02-01T00:43:43.421Z"
   },
   {
    "duration": 764,
    "start_time": "2022-02-01T00:48:05.151Z"
   },
   {
    "duration": 264,
    "start_time": "2022-02-01T00:48:23.521Z"
   },
   {
    "duration": 308,
    "start_time": "2022-02-01T00:48:38.451Z"
   },
   {
    "duration": 278,
    "start_time": "2022-02-01T00:48:58.281Z"
   },
   {
    "duration": 260,
    "start_time": "2022-02-01T00:49:04.671Z"
   },
   {
    "duration": 265,
    "start_time": "2022-02-01T00:49:39.201Z"
   },
   {
    "duration": 285,
    "start_time": "2022-02-01T00:49:53.111Z"
   },
   {
    "duration": 4,
    "start_time": "2022-02-01T00:50:25.572Z"
   },
   {
    "duration": 14,
    "start_time": "2022-02-01T00:50:25.579Z"
   },
   {
    "duration": 844,
    "start_time": "2022-02-01T00:50:25.595Z"
   },
   {
    "duration": 291,
    "start_time": "2022-02-01T00:50:26.441Z"
   },
   {
    "duration": 835,
    "start_time": "2022-02-01T00:50:26.734Z"
   },
   {
    "duration": 646,
    "start_time": "2022-02-01T00:50:39.831Z"
   },
   {
    "duration": 259,
    "start_time": "2022-02-01T00:52:31.212Z"
   },
   {
    "duration": 57,
    "start_time": "2022-02-01T00:52:45.071Z"
   },
   {
    "duration": 789,
    "start_time": "2022-02-01T18:35:53.056Z"
   },
   {
    "duration": 19066,
    "start_time": "2022-02-01T18:35:53.847Z"
   },
   {
    "duration": 8242,
    "start_time": "2022-02-01T18:36:12.916Z"
   },
   {
    "duration": 677,
    "start_time": "2022-02-01T18:36:21.160Z"
   },
   {
    "duration": 1299,
    "start_time": "2022-02-01T18:36:21.840Z"
   },
   {
    "duration": 97,
    "start_time": "2022-02-01T18:36:23.141Z"
   },
   {
    "duration": 10,
    "start_time": "2022-02-01T18:42:40.200Z"
   },
   {
    "duration": 7,
    "start_time": "2022-02-01T18:56:10.087Z"
   },
   {
    "duration": 397,
    "start_time": "2022-02-01T18:58:16.368Z"
   },
   {
    "duration": 7,
    "start_time": "2022-02-01T18:58:36.220Z"
   },
   {
    "duration": 7,
    "start_time": "2022-02-01T18:58:44.977Z"
   },
   {
    "duration": 4,
    "start_time": "2022-02-01T18:59:07.827Z"
   },
   {
    "duration": 5,
    "start_time": "2022-02-01T18:59:11.217Z"
   },
   {
    "duration": 6,
    "start_time": "2022-02-01T18:59:23.405Z"
   },
   {
    "duration": 4,
    "start_time": "2022-02-01T19:04:17.238Z"
   },
   {
    "duration": 8,
    "start_time": "2022-02-01T19:04:17.245Z"
   },
   {
    "duration": 1063,
    "start_time": "2022-02-01T19:04:17.256Z"
   },
   {
    "duration": 298,
    "start_time": "2022-02-01T19:04:18.322Z"
   },
   {
    "duration": 1007,
    "start_time": "2022-02-01T19:04:18.622Z"
   },
   {
    "duration": 87,
    "start_time": "2022-02-01T19:04:19.631Z"
   },
   {
    "duration": 10,
    "start_time": "2022-02-01T19:04:19.721Z"
   },
   {
    "duration": 4,
    "start_time": "2022-02-01T19:04:19.734Z"
   },
   {
    "duration": 24,
    "start_time": "2022-02-01T19:04:19.741Z"
   },
   {
    "duration": 5,
    "start_time": "2022-02-01T19:05:02.418Z"
   },
   {
    "duration": 5,
    "start_time": "2022-02-01T19:06:28.388Z"
   },
   {
    "duration": 4012,
    "start_time": "2022-02-01T19:16:19.514Z"
   },
   {
    "duration": 1400,
    "start_time": "2022-02-01T19:16:44.856Z"
   },
   {
    "duration": 1329,
    "start_time": "2022-02-01T19:16:59.918Z"
   },
   {
    "duration": 6,
    "start_time": "2022-02-01T19:24:27.475Z"
   },
   {
    "duration": 5,
    "start_time": "2022-02-01T19:27:09.908Z"
   },
   {
    "duration": 10,
    "start_time": "2022-02-01T19:27:09.916Z"
   },
   {
    "duration": 890,
    "start_time": "2022-02-01T19:27:09.928Z"
   },
   {
    "duration": 255,
    "start_time": "2022-02-01T19:27:10.821Z"
   },
   {
    "duration": 970,
    "start_time": "2022-02-01T19:27:11.079Z"
   },
   {
    "duration": 1168,
    "start_time": "2022-02-01T19:27:12.051Z"
   },
   {
    "duration": 10,
    "start_time": "2022-02-01T19:27:13.221Z"
   },
   {
    "duration": 146,
    "start_time": "2022-02-01T19:27:50.598Z"
   },
   {
    "duration": 7,
    "start_time": "2022-02-01T19:28:29.578Z"
   },
   {
    "duration": 940,
    "start_time": "2022-02-01T19:30:09.906Z"
   },
   {
    "duration": 9,
    "start_time": "2022-02-01T19:30:32.648Z"
   },
   {
    "duration": 5,
    "start_time": "2022-02-01T19:32:42.318Z"
   },
   {
    "duration": 4,
    "start_time": "2022-02-01T19:39:07.707Z"
   },
   {
    "duration": 247,
    "start_time": "2022-02-01T19:52:17.998Z"
   },
   {
    "duration": 3,
    "start_time": "2022-02-01T19:52:24.948Z"
   },
   {
    "duration": 243,
    "start_time": "2022-02-01T19:52:26.958Z"
   },
   {
    "duration": 294,
    "start_time": "2022-02-01T19:56:48.378Z"
   },
   {
    "duration": 262,
    "start_time": "2022-02-01T19:57:41.539Z"
   },
   {
    "duration": 267,
    "start_time": "2022-02-01T19:57:53.447Z"
   },
   {
    "duration": 308,
    "start_time": "2022-02-01T19:58:23.939Z"
   },
   {
    "duration": 398,
    "start_time": "2022-02-01T20:03:46.079Z"
   },
   {
    "duration": 315,
    "start_time": "2022-02-01T20:05:15.058Z"
   },
   {
    "duration": 302,
    "start_time": "2022-02-01T20:05:34.339Z"
   },
   {
    "duration": 275,
    "start_time": "2022-02-01T20:05:47.209Z"
   },
   {
    "duration": 4,
    "start_time": "2022-02-01T20:06:07.618Z"
   },
   {
    "duration": 353,
    "start_time": "2022-02-01T20:07:00.198Z"
   },
   {
    "duration": 1604,
    "start_time": "2022-02-01T20:08:00.968Z"
   },
   {
    "duration": 351,
    "start_time": "2022-02-01T20:08:49.978Z"
   },
   {
    "duration": 539,
    "start_time": "2022-02-01T20:09:26.564Z"
   },
   {
    "duration": 1024,
    "start_time": "2022-02-01T20:09:41.454Z"
   },
   {
    "duration": 741,
    "start_time": "2022-02-01T20:11:13.939Z"
   },
   {
    "duration": 23,
    "start_time": "2022-02-01T20:12:11.078Z"
   },
   {
    "duration": 809,
    "start_time": "2022-02-02T23:03:24.131Z"
   },
   {
    "duration": 13814,
    "start_time": "2022-02-02T23:03:24.942Z"
   },
   {
    "duration": 6596,
    "start_time": "2022-02-02T23:03:38.759Z"
   },
   {
    "duration": 665,
    "start_time": "2022-02-02T23:03:45.358Z"
   },
   {
    "duration": 1398,
    "start_time": "2022-02-02T23:03:46.025Z"
   },
   {
    "duration": 3798,
    "start_time": "2022-02-02T23:03:47.425Z"
   },
   {
    "duration": 7,
    "start_time": "2022-02-02T23:03:51.225Z"
   },
   {
    "duration": 284,
    "start_time": "2022-02-02T23:03:51.234Z"
   },
   {
    "duration": 4,
    "start_time": "2022-02-02T23:03:51.521Z"
   },
   {
    "duration": 1423,
    "start_time": "2022-02-02T23:03:51.528Z"
   },
   {
    "duration": 1288,
    "start_time": "2022-02-02T23:03:52.953Z"
   },
   {
    "duration": 1041,
    "start_time": "2022-02-02T23:06:22.450Z"
   },
   {
    "duration": 354,
    "start_time": "2022-02-02T23:35:58.852Z"
   },
   {
    "duration": 273,
    "start_time": "2022-02-02T23:36:31.658Z"
   },
   {
    "duration": 243,
    "start_time": "2022-02-02T23:49:31.712Z"
   },
   {
    "duration": 261,
    "start_time": "2022-02-02T23:49:46.112Z"
   },
   {
    "duration": 615,
    "start_time": "2022-02-02T23:50:16.632Z"
   },
   {
    "duration": 711,
    "start_time": "2022-02-02T23:50:18.370Z"
   },
   {
    "duration": 79,
    "start_time": "2022-02-02T23:50:33.495Z"
   },
   {
    "duration": 295,
    "start_time": "2022-02-02T23:51:04.652Z"
   },
   {
    "duration": 2478,
    "start_time": "2022-02-02T23:51:30.770Z"
   },
   {
    "duration": 258,
    "start_time": "2022-02-03T00:42:22.972Z"
   },
   {
    "duration": 252,
    "start_time": "2022-02-03T00:43:58.862Z"
   },
   {
    "duration": 262,
    "start_time": "2022-02-03T00:44:14.512Z"
   },
   {
    "duration": 257,
    "start_time": "2022-02-03T00:44:21.632Z"
   },
   {
    "duration": 442,
    "start_time": "2022-02-03T00:45:23.290Z"
   },
   {
    "duration": 372,
    "start_time": "2022-02-03T00:45:31.050Z"
   },
   {
    "duration": 243,
    "start_time": "2022-02-03T00:45:57.062Z"
   },
   {
    "duration": 2,
    "start_time": "2022-02-03T00:46:50.610Z"
   },
   {
    "duration": 301,
    "start_time": "2022-02-03T00:47:11.192Z"
   },
   {
    "duration": 25,
    "start_time": "2022-02-03T00:47:36.862Z"
   },
   {
    "duration": 335,
    "start_time": "2022-02-03T00:47:50.632Z"
   },
   {
    "duration": 4,
    "start_time": "2022-02-03T00:48:08.412Z"
   },
   {
    "duration": 10,
    "start_time": "2022-02-03T00:48:08.418Z"
   },
   {
    "duration": 632,
    "start_time": "2022-02-03T00:48:08.431Z"
   },
   {
    "duration": 233,
    "start_time": "2022-02-03T00:48:09.119Z"
   },
   {
    "duration": 697,
    "start_time": "2022-02-03T00:48:09.355Z"
   },
   {
    "duration": 1472,
    "start_time": "2022-02-03T00:48:10.055Z"
   },
   {
    "duration": 6,
    "start_time": "2022-02-03T00:48:11.529Z"
   },
   {
    "duration": 108,
    "start_time": "2022-02-03T00:48:11.537Z"
   },
   {
    "duration": 4,
    "start_time": "2022-02-03T00:48:11.648Z"
   },
   {
    "duration": 495,
    "start_time": "2022-02-03T00:48:11.654Z"
   },
   {
    "duration": 811,
    "start_time": "2022-02-03T00:48:12.151Z"
   },
   {
    "duration": 298,
    "start_time": "2022-02-03T00:48:12.963Z"
   },
   {
    "duration": -1453,
    "start_time": "2022-02-03T00:48:14.715Z"
   },
   {
    "duration": 18,
    "start_time": "2022-02-03T00:48:36.702Z"
   },
   {
    "duration": 239,
    "start_time": "2022-02-03T00:48:44.692Z"
   },
   {
    "duration": 221,
    "start_time": "2022-02-03T00:49:05.702Z"
   },
   {
    "duration": 1473,
    "start_time": "2022-02-03T00:56:52.332Z"
   },
   {
    "duration": 46,
    "start_time": "2022-02-03T01:01:39.712Z"
   },
   {
    "duration": 1831,
    "start_time": "2022-02-03T01:01:41.502Z"
   },
   {
    "duration": 53,
    "start_time": "2022-02-03T01:02:11.177Z"
   },
   {
    "duration": 1372,
    "start_time": "2022-02-03T01:02:13.531Z"
   },
   {
    "duration": 327,
    "start_time": "2022-02-03T01:03:13.742Z"
   },
   {
    "duration": 683,
    "start_time": "2022-02-03T01:03:15.252Z"
   },
   {
    "duration": 46,
    "start_time": "2022-02-03T01:03:35.712Z"
   },
   {
    "duration": 1331,
    "start_time": "2022-02-03T01:03:39.170Z"
   },
   {
    "duration": 51,
    "start_time": "2022-02-03T01:03:54.410Z"
   },
   {
    "duration": 1272,
    "start_time": "2022-02-03T01:03:55.933Z"
   },
   {
    "duration": 1597,
    "start_time": "2022-02-03T01:09:03.545Z"
   },
   {
    "duration": 1098,
    "start_time": "2022-02-03T01:09:59.782Z"
   },
   {
    "duration": 949,
    "start_time": "2022-02-03T01:11:09.778Z"
   },
   {
    "duration": 253,
    "start_time": "2022-02-03T01:20:46.932Z"
   },
   {
    "duration": 1033,
    "start_time": "2022-02-03T22:25:28.149Z"
   },
   {
    "duration": 15671,
    "start_time": "2022-02-03T22:25:29.184Z"
   },
   {
    "duration": 9102,
    "start_time": "2022-02-03T22:25:44.860Z"
   },
   {
    "duration": 727,
    "start_time": "2022-02-03T22:25:54.025Z"
   },
   {
    "duration": 1713,
    "start_time": "2022-02-03T22:25:54.756Z"
   },
   {
    "duration": 5269,
    "start_time": "2022-02-03T22:25:56.471Z"
   },
   {
    "duration": 9,
    "start_time": "2022-02-03T22:26:01.743Z"
   },
   {
    "duration": 477,
    "start_time": "2022-02-03T22:26:01.755Z"
   },
   {
    "duration": 6,
    "start_time": "2022-02-03T22:26:02.236Z"
   },
   {
    "duration": 1918,
    "start_time": "2022-02-03T22:26:02.246Z"
   },
   {
    "duration": 1603,
    "start_time": "2022-02-03T22:26:04.223Z"
   },
   {
    "duration": 308,
    "start_time": "2022-02-03T22:26:05.829Z"
   },
   {
    "duration": 3046,
    "start_time": "2022-02-03T22:26:06.140Z"
   },
   {
    "duration": 3,
    "start_time": "2022-02-03T22:26:09.188Z"
   },
   {
    "duration": 2831,
    "start_time": "2022-02-03T22:26:09.194Z"
   },
   {
    "duration": 435,
    "start_time": "2022-02-03T22:30:27.000Z"
   },
   {
    "duration": 624,
    "start_time": "2022-02-03T22:31:46.591Z"
   },
   {
    "duration": 6,
    "start_time": "2022-02-03T22:33:01.143Z"
   },
   {
    "duration": 4,
    "start_time": "2022-02-03T22:49:34.808Z"
   },
   {
    "duration": 242,
    "start_time": "2022-02-03T22:58:57.684Z"
   },
   {
    "duration": 3628,
    "start_time": "2022-02-03T22:59:40.890Z"
   },
   {
    "duration": 1144,
    "start_time": "2022-02-03T23:01:56.980Z"
   },
   {
    "duration": 5694,
    "start_time": "2022-02-03T23:02:01.160Z"
   },
   {
    "duration": 654,
    "start_time": "2022-02-03T23:03:27.930Z"
   },
   {
    "duration": 88,
    "start_time": "2022-02-03T23:12:40.441Z"
   },
   {
    "duration": 35,
    "start_time": "2022-02-03T23:14:19.419Z"
   },
   {
    "duration": 36,
    "start_time": "2022-02-03T23:15:04.525Z"
   },
   {
    "duration": 884,
    "start_time": "2022-02-03T23:15:06.161Z"
   },
   {
    "duration": 6477,
    "start_time": "2022-02-03T23:15:08.713Z"
   },
   {
    "duration": 1125,
    "start_time": "2022-02-03T23:22:08.341Z"
   },
   {
    "duration": 4301,
    "start_time": "2022-02-03T23:25:20.437Z"
   },
   {
    "duration": 291,
    "start_time": "2022-02-03T23:32:54.289Z"
   },
   {
    "duration": 5,
    "start_time": "2022-02-03T23:34:14.460Z"
   },
   {
    "duration": 29,
    "start_time": "2022-02-03T23:36:26.569Z"
   },
   {
    "duration": 3141,
    "start_time": "2022-02-03T23:42:12.599Z"
   },
   {
    "duration": 99,
    "start_time": "2022-02-03T23:48:20.169Z"
   },
   {
    "duration": 791,
    "start_time": "2022-02-03T23:48:22.739Z"
   },
   {
    "duration": 5134,
    "start_time": "2022-02-03T23:48:26.329Z"
   },
   {
    "duration": 830,
    "start_time": "2022-02-03T23:49:17.899Z"
   },
   {
    "duration": 3310,
    "start_time": "2022-02-03T23:49:29.217Z"
   },
   {
    "duration": 2852,
    "start_time": "2022-02-03T23:49:34.377Z"
   },
   {
    "duration": 329,
    "start_time": "2022-02-03T23:57:50.948Z"
   },
   {
    "duration": 319,
    "start_time": "2022-02-03T23:59:07.180Z"
   },
   {
    "duration": 9,
    "start_time": "2022-02-04T00:00:44.600Z"
   },
   {
    "duration": 12,
    "start_time": "2022-02-04T00:01:10.110Z"
   },
   {
    "duration": 729,
    "start_time": "2022-02-04T00:08:42.928Z"
   },
   {
    "duration": 723,
    "start_time": "2022-02-04T00:14:23.207Z"
   },
   {
    "duration": 641,
    "start_time": "2022-02-04T00:15:44.507Z"
   },
   {
    "duration": 1815,
    "start_time": "2022-02-04T00:17:13.020Z"
   },
   {
    "duration": 2017,
    "start_time": "2022-02-04T00:17:52.710Z"
   },
   {
    "duration": 9,
    "start_time": "2022-02-04T00:19:19.340Z"
   },
   {
    "duration": 5526,
    "start_time": "2022-02-04T00:21:42.549Z"
   },
   {
    "duration": 1213,
    "start_time": "2022-02-04T00:24:53.819Z"
   },
   {
    "duration": 351,
    "start_time": "2022-02-04T00:40:39.330Z"
   },
   {
    "duration": 373,
    "start_time": "2022-02-04T00:41:42.400Z"
   },
   {
    "duration": 1616,
    "start_time": "2022-02-04T01:14:25.537Z"
   },
   {
    "duration": 340,
    "start_time": "2022-02-04T01:14:35.101Z"
   },
   {
    "duration": 363,
    "start_time": "2022-02-04T01:17:29.771Z"
   },
   {
    "duration": 5118,
    "start_time": "2022-02-04T01:18:11.871Z"
   },
   {
    "duration": 4163,
    "start_time": "2022-02-04T01:18:32.971Z"
   },
   {
    "duration": 991,
    "start_time": "2022-02-05T05:44:16.034Z"
   },
   {
    "duration": 15617,
    "start_time": "2022-02-05T05:44:17.027Z"
   },
   {
    "duration": 9609,
    "start_time": "2022-02-05T05:44:32.648Z"
   },
   {
    "duration": 790,
    "start_time": "2022-02-05T05:44:42.260Z"
   },
   {
    "duration": 1721,
    "start_time": "2022-02-05T05:44:43.053Z"
   },
   {
    "duration": 5184,
    "start_time": "2022-02-05T05:44:44.776Z"
   },
   {
    "duration": 9,
    "start_time": "2022-02-05T05:44:49.962Z"
   },
   {
    "duration": 359,
    "start_time": "2022-02-05T05:44:49.973Z"
   },
   {
    "duration": 6,
    "start_time": "2022-02-05T05:44:50.336Z"
   },
   {
    "duration": 1908,
    "start_time": "2022-02-05T05:44:50.345Z"
   },
   {
    "duration": 1336,
    "start_time": "2022-02-05T05:44:52.255Z"
   },
   {
    "duration": 177,
    "start_time": "2022-02-05T05:44:53.593Z"
   },
   {
    "duration": 3274,
    "start_time": "2022-02-05T05:44:53.773Z"
   },
   {
    "duration": 121,
    "start_time": "2022-02-05T05:44:57.050Z"
   },
   {
    "duration": 90,
    "start_time": "2022-02-05T05:44:57.173Z"
   },
   {
    "duration": 1399,
    "start_time": "2022-02-05T05:44:57.265Z"
   },
   {
    "duration": 6345,
    "start_time": "2022-02-05T05:44:58.666Z"
   },
   {
    "duration": 1022,
    "start_time": "2022-02-05T05:45:05.014Z"
   },
   {
    "duration": 842,
    "start_time": "2022-02-05T05:45:06.038Z"
   },
   {
    "duration": 3729,
    "start_time": "2022-02-05T05:45:06.933Z"
   },
   {
    "duration": 2888,
    "start_time": "2022-02-05T05:45:10.665Z"
   },
   {
    "duration": 6397,
    "start_time": "2022-02-05T05:45:13.556Z"
   },
   {
    "duration": 1398,
    "start_time": "2022-02-05T05:45:19.956Z"
   },
   {
    "duration": 5777,
    "start_time": "2022-02-05T05:45:21.356Z"
   },
   {
    "duration": 4,
    "start_time": "2022-02-05T05:48:37.944Z"
   },
   {
    "duration": 184,
    "start_time": "2022-02-05T05:51:20.854Z"
   },
   {
    "duration": 1512,
    "start_time": "2022-02-05T05:57:22.055Z"
   },
   {
    "duration": 323,
    "start_time": "2022-02-05T06:20:15.539Z"
   },
   {
    "duration": 566,
    "start_time": "2022-02-05T06:22:30.014Z"
   },
   {
    "duration": 24,
    "start_time": "2022-02-05T06:23:50.693Z"
   },
   {
    "duration": 246,
    "start_time": "2022-02-05T06:23:56.264Z"
   },
   {
    "duration": 233,
    "start_time": "2022-02-05T06:24:49.834Z"
   },
   {
    "duration": 361,
    "start_time": "2022-02-05T06:25:59.241Z"
   },
   {
    "duration": 346,
    "start_time": "2022-02-05T06:29:20.893Z"
   },
   {
    "duration": 7,
    "start_time": "2022-02-05T06:29:50.932Z"
   },
   {
    "duration": 6,
    "start_time": "2022-02-05T06:30:46.473Z"
   },
   {
    "duration": 6,
    "start_time": "2022-02-05T06:31:06.854Z"
   },
   {
    "duration": 7,
    "start_time": "2022-02-05T06:31:30.694Z"
   },
   {
    "duration": 7,
    "start_time": "2022-02-05T06:33:32.304Z"
   },
   {
    "duration": 7,
    "start_time": "2022-02-05T06:34:34.302Z"
   },
   {
    "duration": 8,
    "start_time": "2022-02-05T06:37:37.514Z"
   },
   {
    "duration": 8,
    "start_time": "2022-02-05T06:39:33.833Z"
   },
   {
    "duration": 7,
    "start_time": "2022-02-05T06:39:43.655Z"
   },
   {
    "duration": 8,
    "start_time": "2022-02-05T08:03:50.612Z"
   },
   {
    "duration": 11,
    "start_time": "2022-02-05T08:05:21.194Z"
   },
   {
    "duration": 272,
    "start_time": "2022-02-05T08:12:29.332Z"
   },
   {
    "duration": 247,
    "start_time": "2022-02-05T08:12:44.692Z"
   },
   {
    "duration": 299,
    "start_time": "2022-02-05T08:12:55.252Z"
   },
   {
    "duration": 236,
    "start_time": "2022-02-05T08:13:31.740Z"
   },
   {
    "duration": 276,
    "start_time": "2022-02-05T08:13:51.234Z"
   },
   {
    "duration": 2479,
    "start_time": "2022-02-05T08:14:14.894Z"
   },
   {
    "duration": 316,
    "start_time": "2022-02-05T08:14:32.384Z"
   },
   {
    "duration": 246,
    "start_time": "2022-02-05T08:14:49.473Z"
   },
   {
    "duration": 550,
    "start_time": "2022-02-05T08:16:02.814Z"
   },
   {
    "duration": 412,
    "start_time": "2022-02-05T08:16:13.864Z"
   },
   {
    "duration": 10,
    "start_time": "2022-02-05T08:23:23.932Z"
   },
   {
    "duration": 9,
    "start_time": "2022-02-05T09:30:11.504Z"
   },
   {
    "duration": 257,
    "start_time": "2022-02-05T09:30:13.154Z"
   },
   {
    "duration": 5,
    "start_time": "2022-02-05T09:30:40.695Z"
   },
   {
    "duration": 4,
    "start_time": "2022-02-05T09:30:47.871Z"
   },
   {
    "duration": 245,
    "start_time": "2022-02-05T09:33:23.111Z"
   },
   {
    "duration": 253,
    "start_time": "2022-02-05T09:33:57.064Z"
   },
   {
    "duration": 240,
    "start_time": "2022-02-05T09:34:08.584Z"
   },
   {
    "duration": 269,
    "start_time": "2022-02-05T09:34:20.933Z"
   },
   {
    "duration": 254,
    "start_time": "2022-02-05T09:34:34.132Z"
   },
   {
    "duration": 217,
    "start_time": "2022-02-05T09:34:53.252Z"
   },
   {
    "duration": 552,
    "start_time": "2022-02-05T09:35:30.034Z"
   },
   {
    "duration": 243,
    "start_time": "2022-02-05T09:35:35.241Z"
   },
   {
    "duration": 523,
    "start_time": "2022-02-05T09:37:30.185Z"
   },
   {
    "duration": 239,
    "start_time": "2022-02-05T09:37:39.814Z"
   },
   {
    "duration": 243,
    "start_time": "2022-02-05T09:42:17.092Z"
   },
   {
    "duration": 542,
    "start_time": "2022-02-05T09:42:26.493Z"
   },
   {
    "duration": 256,
    "start_time": "2022-02-05T09:42:48.353Z"
   },
   {
    "duration": 244,
    "start_time": "2022-02-05T09:48:43.932Z"
   },
   {
    "duration": 421,
    "start_time": "2022-02-05T09:49:02.665Z"
   },
   {
    "duration": 235,
    "start_time": "2022-02-05T09:55:40.544Z"
   },
   {
    "duration": 77,
    "start_time": "2022-02-05T09:58:10.115Z"
   },
   {
    "duration": 4,
    "start_time": "2022-02-05T10:02:39.452Z"
   },
   {
    "duration": 4608,
    "start_time": "2022-02-05T10:03:48.034Z"
   },
   {
    "duration": 261,
    "start_time": "2022-02-05T10:05:45.619Z"
   },
   {
    "duration": 241,
    "start_time": "2022-02-05T10:05:55.744Z"
   },
   {
    "duration": 6,
    "start_time": "2022-02-05T10:37:20.514Z"
   },
   {
    "duration": 17,
    "start_time": "2022-02-05T10:37:20.522Z"
   },
   {
    "duration": 1105,
    "start_time": "2022-02-05T10:37:20.542Z"
   },
   {
    "duration": 284,
    "start_time": "2022-02-05T10:37:21.649Z"
   },
   {
    "duration": 747,
    "start_time": "2022-02-05T10:37:21.936Z"
   },
   {
    "duration": 1977,
    "start_time": "2022-02-05T10:37:22.685Z"
   },
   {
    "duration": 10,
    "start_time": "2022-02-05T10:37:24.665Z"
   },
   {
    "duration": 199,
    "start_time": "2022-02-05T10:37:24.734Z"
   },
   {
    "duration": 7,
    "start_time": "2022-02-05T10:37:24.936Z"
   },
   {
    "duration": 622,
    "start_time": "2022-02-05T10:37:24.946Z"
   },
   {
    "duration": 968,
    "start_time": "2022-02-05T10:37:25.572Z"
   },
   {
    "duration": 108,
    "start_time": "2022-02-05T10:37:26.543Z"
   },
   {
    "duration": 2481,
    "start_time": "2022-02-05T10:37:26.653Z"
   },
   {
    "duration": 107,
    "start_time": "2022-02-05T10:37:29.136Z"
   },
   {
    "duration": 27,
    "start_time": "2022-02-05T10:37:29.246Z"
   },
   {
    "duration": 690,
    "start_time": "2022-02-05T10:37:29.275Z"
   },
   {
    "duration": 5681,
    "start_time": "2022-02-05T10:37:29.967Z"
   },
   {
    "duration": 581,
    "start_time": "2022-02-05T10:37:35.653Z"
   },
   {
    "duration": 528,
    "start_time": "2022-02-05T10:37:36.237Z"
   },
   {
    "duration": 2074,
    "start_time": "2022-02-05T10:37:36.767Z"
   },
   {
    "duration": 1699,
    "start_time": "2022-02-05T10:37:38.843Z"
   },
   {
    "duration": 4,
    "start_time": "2022-02-05T10:37:45.193Z"
   },
   {
    "duration": 11,
    "start_time": "2022-02-05T10:37:55.214Z"
   },
   {
    "duration": 4,
    "start_time": "2022-02-05T10:37:57.812Z"
   },
   {
    "duration": 257,
    "start_time": "2022-02-05T10:38:13.812Z"
   },
   {
    "duration": 263,
    "start_time": "2022-02-05T10:44:59.954Z"
   },
   {
    "duration": 255,
    "start_time": "2022-02-05T10:45:50.252Z"
   },
   {
    "duration": 250,
    "start_time": "2022-02-05T10:48:13.333Z"
   },
   {
    "duration": 282,
    "start_time": "2022-02-05T10:51:38.395Z"
   },
   {
    "duration": 6,
    "start_time": "2022-02-05T10:52:51.833Z"
   },
   {
    "duration": 4039,
    "start_time": "2022-02-05T10:55:57.340Z"
   },
   {
    "duration": 3589,
    "start_time": "2022-02-05T10:57:20.664Z"
   },
   {
    "duration": 2451,
    "start_time": "2022-02-05T10:57:52.092Z"
   },
   {
    "duration": 269,
    "start_time": "2022-02-05T10:58:21.236Z"
   },
   {
    "duration": 1173,
    "start_time": "2022-02-09T04:42:24.089Z"
   },
   {
    "duration": 20837,
    "start_time": "2022-02-09T04:42:25.264Z"
   },
   {
    "duration": 9578,
    "start_time": "2022-02-09T04:42:46.104Z"
   },
   {
    "duration": 989,
    "start_time": "2022-02-09T04:42:55.685Z"
   },
   {
    "duration": 1888,
    "start_time": "2022-02-09T04:42:56.677Z"
   },
   {
    "duration": 5311,
    "start_time": "2022-02-09T04:42:58.568Z"
   },
   {
    "duration": 9,
    "start_time": "2022-02-09T04:43:03.882Z"
   },
   {
    "duration": 367,
    "start_time": "2022-02-09T04:43:03.895Z"
   },
   {
    "duration": 7,
    "start_time": "2022-02-09T04:43:04.266Z"
   },
   {
    "duration": 1981,
    "start_time": "2022-02-09T04:43:04.276Z"
   },
   {
    "duration": 1439,
    "start_time": "2022-02-09T04:43:06.260Z"
   },
   {
    "duration": 184,
    "start_time": "2022-02-09T04:43:07.702Z"
   },
   {
    "duration": 3330,
    "start_time": "2022-02-09T04:43:07.889Z"
   },
   {
    "duration": 130,
    "start_time": "2022-02-09T04:43:11.222Z"
   },
   {
    "duration": 112,
    "start_time": "2022-02-09T04:43:11.354Z"
   },
   {
    "duration": 1488,
    "start_time": "2022-02-09T04:43:11.469Z"
   },
   {
    "duration": 6826,
    "start_time": "2022-02-09T04:43:12.959Z"
   },
   {
    "duration": 1063,
    "start_time": "2022-02-09T04:43:19.788Z"
   },
   {
    "duration": 920,
    "start_time": "2022-02-09T04:43:20.853Z"
   },
   {
    "duration": 3781,
    "start_time": "2022-02-09T04:43:21.776Z"
   },
   {
    "duration": 2402,
    "start_time": "2022-02-09T04:43:25.561Z"
   },
   {
    "duration": 4,
    "start_time": "2022-02-09T04:43:27.966Z"
   },
   {
    "duration": 127,
    "start_time": "2022-02-09T04:43:27.974Z"
   },
   {
    "duration": 4,
    "start_time": "2022-02-09T04:43:28.103Z"
   },
   {
    "duration": 7156,
    "start_time": "2022-02-09T04:43:28.110Z"
   },
   {
    "duration": 428,
    "start_time": "2022-02-09T04:43:35.268Z"
   },
   {
    "duration": -84,
    "start_time": "2022-02-09T04:43:35.782Z"
   },
   {
    "duration": -95,
    "start_time": "2022-02-09T04:43:35.795Z"
   },
   {
    "duration": -101,
    "start_time": "2022-02-09T04:43:35.802Z"
   },
   {
    "duration": -111,
    "start_time": "2022-02-09T04:43:35.813Z"
   },
   {
    "duration": -116,
    "start_time": "2022-02-09T04:43:35.820Z"
   },
   {
    "duration": -127,
    "start_time": "2022-02-09T04:43:35.832Z"
   },
   {
    "duration": -144,
    "start_time": "2022-02-09T04:43:35.850Z"
   },
   {
    "duration": 5399,
    "start_time": "2022-02-09T04:53:25.890Z"
   },
   {
    "duration": 1682,
    "start_time": "2022-02-09T04:53:39.010Z"
   },
   {
    "duration": 5205,
    "start_time": "2022-02-09T04:53:40.750Z"
   },
   {
    "duration": 1092,
    "start_time": "2022-02-09T04:53:45.958Z"
   },
   {
    "duration": 8,
    "start_time": "2022-02-09T04:53:47.053Z"
   },
   {
    "duration": 10,
    "start_time": "2022-02-09T04:53:47.064Z"
   },
   {
    "duration": 717,
    "start_time": "2022-02-09T04:53:47.077Z"
   },
   {
    "duration": 164,
    "start_time": "2022-02-09T05:28:59.719Z"
   },
   {
    "duration": 16,
    "start_time": "2022-02-09T05:29:11.959Z"
   },
   {
    "duration": 382,
    "start_time": "2022-02-09T05:34:27.399Z"
   },
   {
    "duration": 299,
    "start_time": "2022-02-09T05:34:35.164Z"
   },
   {
    "duration": 293,
    "start_time": "2022-02-09T05:37:49.450Z"
   },
   {
    "duration": 383,
    "start_time": "2022-02-09T05:37:57.890Z"
   },
   {
    "duration": 178,
    "start_time": "2022-02-09T05:39:41.401Z"
   },
   {
    "duration": 56,
    "start_time": "2022-02-09T05:40:03.411Z"
   },
   {
    "duration": 450,
    "start_time": "2022-02-09T05:40:16.121Z"
   },
   {
    "duration": 42,
    "start_time": "2022-02-09T05:40:29.212Z"
   },
   {
    "duration": 994,
    "start_time": "2022-02-09T05:40:37.570Z"
   },
   {
    "duration": 2411,
    "start_time": "2022-02-09T05:40:41.351Z"
   },
   {
    "duration": 14,
    "start_time": "2022-02-09T05:40:46.748Z"
   },
   {
    "duration": 120,
    "start_time": "2022-02-09T05:40:55.951Z"
   },
   {
    "duration": 6,
    "start_time": "2022-02-09T05:40:58.457Z"
   },
   {
    "duration": 748,
    "start_time": "2022-02-09T05:41:51.710Z"
   },
   {
    "duration": 1377,
    "start_time": "2022-02-09T05:41:52.984Z"
   },
   {
    "duration": 73,
    "start_time": "2022-02-09T05:41:58.398Z"
   },
   {
    "duration": 2682,
    "start_time": "2022-02-09T05:41:59.328Z"
   },
   {
    "duration": 64,
    "start_time": "2022-02-09T05:42:09.411Z"
   },
   {
    "duration": 71,
    "start_time": "2022-02-09T05:42:09.478Z"
   },
   {
    "duration": 843,
    "start_time": "2022-02-09T05:42:09.552Z"
   },
   {
    "duration": 6920,
    "start_time": "2022-02-09T05:42:10.398Z"
   },
   {
    "duration": 1131,
    "start_time": "2022-02-09T05:42:17.321Z"
   },
   {
    "duration": 996,
    "start_time": "2022-02-09T05:42:18.455Z"
   },
   {
    "duration": 3004,
    "start_time": "2022-02-09T05:42:19.453Z"
   },
   {
    "duration": 2688,
    "start_time": "2022-02-09T05:42:22.461Z"
   },
   {
    "duration": 5,
    "start_time": "2022-02-09T05:42:25.153Z"
   },
   {
    "duration": 11,
    "start_time": "2022-02-09T05:42:25.161Z"
   },
   {
    "duration": 74,
    "start_time": "2022-02-09T05:42:25.175Z"
   },
   {
    "duration": 7808,
    "start_time": "2022-02-09T05:42:25.251Z"
   },
   {
    "duration": 330,
    "start_time": "2022-02-09T05:42:33.065Z"
   },
   {
    "duration": -329,
    "start_time": "2022-02-09T05:42:33.727Z"
   },
   {
    "duration": -337,
    "start_time": "2022-02-09T05:42:33.736Z"
   },
   {
    "duration": -343,
    "start_time": "2022-02-09T05:42:33.744Z"
   },
   {
    "duration": -354,
    "start_time": "2022-02-09T05:42:33.757Z"
   },
   {
    "duration": -361,
    "start_time": "2022-02-09T05:42:33.765Z"
   },
   {
    "duration": -367,
    "start_time": "2022-02-09T05:42:33.773Z"
   },
   {
    "duration": -374,
    "start_time": "2022-02-09T05:42:33.781Z"
   },
   {
    "duration": 5770,
    "start_time": "2022-02-09T05:42:44.011Z"
   },
   {
    "duration": 1967,
    "start_time": "2022-02-09T05:42:49.784Z"
   },
   {
    "duration": 5923,
    "start_time": "2022-02-09T05:42:51.756Z"
   },
   {
    "duration": 2049,
    "start_time": "2022-02-09T05:42:57.682Z"
   },
   {
    "duration": 11,
    "start_time": "2022-02-09T05:42:59.753Z"
   },
   {
    "duration": 18,
    "start_time": "2022-02-09T05:42:59.767Z"
   },
   {
    "duration": 447,
    "start_time": "2022-02-09T05:42:59.788Z"
   },
   {
    "duration": 4489,
    "start_time": "2022-02-09T06:15:11.369Z"
   },
   {
    "duration": 374,
    "start_time": "2022-02-09T06:17:57.869Z"
   },
   {
    "duration": 3,
    "start_time": "2022-02-09T06:26:01.040Z"
   },
   {
    "duration": 11,
    "start_time": "2022-02-09T06:33:49.859Z"
   },
   {
    "duration": 9,
    "start_time": "2022-02-09T06:34:40.939Z"
   },
   {
    "duration": 656,
    "start_time": "2022-02-09T06:35:53.949Z"
   },
   {
    "duration": 6,
    "start_time": "2022-02-09T06:36:19.400Z"
   },
   {
    "duration": 22,
    "start_time": "2022-02-09T06:36:36.819Z"
   },
   {
    "duration": 9,
    "start_time": "2022-02-09T06:42:58.568Z"
   },
   {
    "duration": 49730,
    "start_time": "2022-02-09T06:44:25.319Z"
   },
   {
    "duration": 7,
    "start_time": "2022-02-09T06:48:39.019Z"
   },
   {
    "duration": 63,
    "start_time": "2022-02-09T06:56:46.729Z"
   },
   {
    "duration": 367,
    "start_time": "2022-02-09T06:58:39.219Z"
   },
   {
    "duration": 342,
    "start_time": "2022-02-09T07:00:12.600Z"
   },
   {
    "duration": 6,
    "start_time": "2022-02-09T07:00:52.310Z"
   },
   {
    "duration": 7,
    "start_time": "2022-02-09T07:01:12.089Z"
   },
   {
    "duration": 10,
    "start_time": "2022-02-09T07:10:07.098Z"
   },
   {
    "duration": 101,
    "start_time": "2022-02-09T07:18:06.320Z"
   },
   {
    "duration": 134,
    "start_time": "2022-02-09T07:18:19.248Z"
   },
   {
    "duration": 11,
    "start_time": "2022-02-09T07:28:04.060Z"
   },
   {
    "duration": 10,
    "start_time": "2022-02-09T07:30:15.069Z"
   },
   {
    "duration": 9,
    "start_time": "2022-02-09T07:30:50.109Z"
   },
   {
    "duration": 9,
    "start_time": "2022-02-09T07:31:25.987Z"
   },
   {
    "duration": 10,
    "start_time": "2022-02-09T07:32:58.349Z"
   },
   {
    "duration": 3641,
    "start_time": "2022-02-09T07:33:27.019Z"
   },
   {
    "duration": 3539,
    "start_time": "2022-02-09T07:33:33.409Z"
   },
   {
    "duration": 61,
    "start_time": "2022-02-09T07:36:11.359Z"
   },
   {
    "duration": 9,
    "start_time": "2022-02-09T07:40:15.559Z"
   },
   {
    "duration": 1354,
    "start_time": "2022-02-10T15:45:15.049Z"
   },
   {
    "duration": 21760,
    "start_time": "2022-02-10T15:45:16.407Z"
   },
   {
    "duration": 10601,
    "start_time": "2022-02-10T15:45:38.170Z"
   },
   {
    "duration": 817,
    "start_time": "2022-02-10T15:45:48.774Z"
   },
   {
    "duration": 1881,
    "start_time": "2022-02-10T15:45:49.594Z"
   },
   {
    "duration": 5206,
    "start_time": "2022-02-10T15:45:51.478Z"
   },
   {
    "duration": 12,
    "start_time": "2022-02-10T15:45:56.687Z"
   },
   {
    "duration": 391,
    "start_time": "2022-02-10T15:45:56.704Z"
   },
   {
    "duration": 4,
    "start_time": "2022-02-10T15:45:57.098Z"
   },
   {
    "duration": 6,
    "start_time": "2022-02-10T15:45:57.170Z"
   },
   {
    "duration": 536,
    "start_time": "2022-02-10T15:46:05.518Z"
   },
   {
    "duration": 2150,
    "start_time": "2022-02-10T15:47:27.936Z"
   },
   {
    "duration": 1821,
    "start_time": "2022-02-10T15:49:15.970Z"
   },
   {
    "duration": 1054,
    "start_time": "2022-02-10T16:01:16.595Z"
   },
   {
    "duration": 16252,
    "start_time": "2022-02-10T16:01:17.651Z"
   },
   {
    "duration": 10492,
    "start_time": "2022-02-10T16:01:33.907Z"
   },
   {
    "duration": 968,
    "start_time": "2022-02-10T16:01:44.402Z"
   },
   {
    "duration": 2140,
    "start_time": "2022-02-10T16:01:45.373Z"
   },
   {
    "duration": 6059,
    "start_time": "2022-02-10T16:01:47.516Z"
   },
   {
    "duration": 16,
    "start_time": "2022-02-10T16:01:53.578Z"
   },
   {
    "duration": 384,
    "start_time": "2022-02-10T16:01:53.596Z"
   },
   {
    "duration": 4,
    "start_time": "2022-02-10T16:01:53.985Z"
   },
   {
    "duration": 78,
    "start_time": "2022-02-10T16:01:53.993Z"
   },
   {
    "duration": 1920,
    "start_time": "2022-02-10T16:01:54.074Z"
   },
   {
    "duration": 1583,
    "start_time": "2022-02-10T16:01:55.997Z"
   },
   {
    "duration": 285,
    "start_time": "2022-02-10T16:01:57.584Z"
   },
   {
    "duration": 3843,
    "start_time": "2022-02-10T16:01:57.872Z"
   },
   {
    "duration": 157,
    "start_time": "2022-02-10T16:02:01.718Z"
   },
   {
    "duration": 119,
    "start_time": "2022-02-10T16:02:01.879Z"
   },
   {
    "duration": 1570,
    "start_time": "2022-02-10T16:02:02.000Z"
   },
   {
    "duration": 8210,
    "start_time": "2022-02-10T16:02:03.573Z"
   },
   {
    "duration": 1155,
    "start_time": "2022-02-10T16:02:28.418Z"
   },
   {
    "duration": 1108,
    "start_time": "2022-02-10T16:02:35.664Z"
   },
   {
    "duration": 934,
    "start_time": "2022-02-10T16:05:16.163Z"
   },
   {
    "duration": 4046,
    "start_time": "2022-02-10T16:05:19.135Z"
   },
   {
    "duration": 4090,
    "start_time": "2022-02-10T16:05:23.184Z"
   },
   {
    "duration": 3,
    "start_time": "2022-02-10T16:05:28.775Z"
   },
   {
    "duration": 467,
    "start_time": "2022-02-10T16:05:39.464Z"
   },
   {
    "duration": 59,
    "start_time": "2022-02-10T16:05:43.639Z"
   },
   {
    "duration": 4,
    "start_time": "2022-02-10T16:05:49.317Z"
   },
   {
    "duration": 60,
    "start_time": "2022-02-10T16:05:52.357Z"
   },
   {
    "duration": 56264,
    "start_time": "2022-02-10T16:18:08.030Z"
   },
   {
    "duration": 6,
    "start_time": "2022-02-10T16:19:11.304Z"
   },
   {
    "duration": 35,
    "start_time": "2022-02-10T16:20:04.063Z"
   },
   {
    "duration": 6,
    "start_time": "2022-02-10T16:20:33.562Z"
   },
   {
    "duration": 8,
    "start_time": "2022-02-10T16:20:36.737Z"
   },
   {
    "duration": 366,
    "start_time": "2022-02-10T16:22:09.731Z"
   },
   {
    "duration": 395,
    "start_time": "2022-02-10T16:22:19.144Z"
   },
   {
    "duration": 359,
    "start_time": "2022-02-10T16:22:39.910Z"
   },
   {
    "duration": 420,
    "start_time": "2022-02-10T16:23:13.383Z"
   },
   {
    "duration": 26,
    "start_time": "2022-02-10T16:23:48.724Z"
   },
   {
    "duration": 412,
    "start_time": "2022-02-10T16:25:26.270Z"
   },
   {
    "duration": 321,
    "start_time": "2022-02-10T16:25:32.273Z"
   },
   {
    "duration": 10,
    "start_time": "2022-02-10T16:26:18.750Z"
   },
   {
    "duration": 3759,
    "start_time": "2022-02-10T16:26:49.644Z"
   },
   {
    "duration": 3177,
    "start_time": "2022-02-10T16:26:53.406Z"
   },
   {
    "duration": 1307,
    "start_time": "2022-02-10T16:26:56.586Z"
   },
   {
    "duration": 90,
    "start_time": "2022-02-10T16:26:57.896Z"
   },
   {
    "duration": 33,
    "start_time": "2022-02-10T16:27:01.744Z"
   },
   {
    "duration": 4432,
    "start_time": "2022-02-10T16:27:03.765Z"
   },
   {
    "duration": 1020,
    "start_time": "2022-02-10T16:27:08.200Z"
   },
   {
    "duration": 10,
    "start_time": "2022-02-10T16:27:09.223Z"
   },
   {
    "duration": 401,
    "start_time": "2022-02-10T16:27:11.342Z"
   },
   {
    "duration": 9,
    "start_time": "2022-02-10T16:27:27.586Z"
   },
   {
    "duration": 8,
    "start_time": "2022-02-10T16:27:30.506Z"
   },
   {
    "duration": 8,
    "start_time": "2022-02-10T16:27:34.605Z"
   },
   {
    "duration": 6,
    "start_time": "2022-02-10T16:27:58.921Z"
   },
   {
    "duration": 6,
    "start_time": "2022-02-10T16:28:19.663Z"
   },
   {
    "duration": 10,
    "start_time": "2022-02-10T16:30:00.446Z"
   },
   {
    "duration": 3132,
    "start_time": "2022-02-10T16:30:04.555Z"
   },
   {
    "duration": 795,
    "start_time": "2022-02-10T16:30:57.303Z"
   },
   {
    "duration": 8,
    "start_time": "2022-02-10T16:31:36.376Z"
   },
   {
    "duration": 8,
    "start_time": "2022-02-10T16:31:54.367Z"
   },
   {
    "duration": 9,
    "start_time": "2022-02-10T16:31:56.065Z"
   },
   {
    "duration": 3304,
    "start_time": "2022-02-10T16:32:20.984Z"
   },
   {
    "duration": 7,
    "start_time": "2022-02-10T16:37:55.104Z"
   },
   {
    "duration": 3005,
    "start_time": "2022-02-10T16:40:31.964Z"
   },
   {
    "duration": 2623,
    "start_time": "2022-02-10T16:40:34.972Z"
   },
   {
    "duration": 780,
    "start_time": "2022-02-10T16:40:37.597Z"
   },
   {
    "duration": 91,
    "start_time": "2022-02-10T16:40:38.379Z"
   },
   {
    "duration": 101,
    "start_time": "2022-02-10T16:40:38.472Z"
   },
   {
    "duration": 3571,
    "start_time": "2022-02-10T16:40:38.910Z"
   },
   {
    "duration": 708,
    "start_time": "2022-02-10T16:40:42.484Z"
   },
   {
    "duration": 9,
    "start_time": "2022-02-10T16:40:43.195Z"
   },
   {
    "duration": 11,
    "start_time": "2022-02-10T16:40:43.973Z"
   },
   {
    "duration": 9,
    "start_time": "2022-02-10T16:40:45.848Z"
   },
   {
    "duration": 374,
    "start_time": "2022-02-10T16:40:54.911Z"
   },
   {
    "duration": 348,
    "start_time": "2022-02-10T16:41:08.625Z"
   },
   {
    "duration": 371,
    "start_time": "2022-02-10T16:41:17.682Z"
   },
   {
    "duration": 329,
    "start_time": "2022-02-10T16:41:31.314Z"
   },
   {
    "duration": 540,
    "start_time": "2022-02-10T16:42:23.952Z"
   },
   {
    "duration": 330,
    "start_time": "2022-02-10T16:43:32.204Z"
   },
   {
    "duration": 39461,
    "start_time": "2022-02-10T16:43:40.638Z"
   },
   {
    "duration": 7,
    "start_time": "2022-02-10T16:44:20.102Z"
   },
   {
    "duration": 92,
    "start_time": "2022-02-10T16:44:20.112Z"
   },
   {
    "duration": 2380,
    "start_time": "2022-02-10T16:44:20.208Z"
   },
   {
    "duration": 2284,
    "start_time": "2022-02-10T16:44:22.591Z"
   },
   {
    "duration": 615,
    "start_time": "2022-02-10T16:44:24.878Z"
   },
   {
    "duration": 105,
    "start_time": "2022-02-10T16:44:25.496Z"
   },
   {
    "duration": 30,
    "start_time": "2022-02-10T16:44:25.605Z"
   },
   {
    "duration": 2963,
    "start_time": "2022-02-10T16:44:25.638Z"
   },
   {
    "duration": 706,
    "start_time": "2022-02-10T16:44:28.604Z"
   },
   {
    "duration": 7,
    "start_time": "2022-02-10T16:44:29.313Z"
   },
   {
    "duration": 14,
    "start_time": "2022-02-10T16:44:29.370Z"
   },
   {
    "duration": 18,
    "start_time": "2022-02-10T16:44:29.386Z"
   },
   {
    "duration": 400,
    "start_time": "2022-02-10T16:45:28.171Z"
   },
   {
    "duration": 1159,
    "start_time": "2022-02-10T16:45:29.926Z"
   },
   {
    "duration": 352,
    "start_time": "2022-02-10T16:46:34.343Z"
   },
   {
    "duration": 375,
    "start_time": "2022-02-10T16:46:42.006Z"
   },
   {
    "duration": 339,
    "start_time": "2022-02-10T16:46:49.422Z"
   },
   {
    "duration": 420,
    "start_time": "2022-02-10T16:46:52.711Z"
   },
   {
    "duration": 13,
    "start_time": "2022-02-10T16:48:07.070Z"
   },
   {
    "duration": 329,
    "start_time": "2022-02-10T16:48:24.644Z"
   },
   {
    "duration": 11,
    "start_time": "2022-02-10T16:48:32.243Z"
   },
   {
    "duration": 11,
    "start_time": "2022-02-10T16:49:04.255Z"
   },
   {
    "duration": 12,
    "start_time": "2022-02-10T16:49:05.286Z"
   },
   {
    "duration": 1128,
    "start_time": "2022-02-10T16:51:40.740Z"
   },
   {
    "duration": 15433,
    "start_time": "2022-02-10T16:51:41.871Z"
   },
   {
    "duration": 10496,
    "start_time": "2022-02-10T16:51:57.308Z"
   },
   {
    "duration": 962,
    "start_time": "2022-02-10T16:52:07.807Z"
   },
   {
    "duration": 1910,
    "start_time": "2022-02-10T16:52:08.772Z"
   },
   {
    "duration": 5316,
    "start_time": "2022-02-10T16:52:10.685Z"
   },
   {
    "duration": 74,
    "start_time": "2022-02-10T16:52:16.004Z"
   },
   {
    "duration": 321,
    "start_time": "2022-02-10T16:52:16.082Z"
   },
   {
    "duration": 3,
    "start_time": "2022-02-10T16:52:16.471Z"
   },
   {
    "duration": 11,
    "start_time": "2022-02-10T16:52:16.477Z"
   },
   {
    "duration": 1989,
    "start_time": "2022-02-10T16:52:16.490Z"
   },
   {
    "duration": 1562,
    "start_time": "2022-02-10T16:52:18.482Z"
   },
   {
    "duration": 242,
    "start_time": "2022-02-10T16:52:20.046Z"
   },
   {
    "duration": 3156,
    "start_time": "2022-02-10T16:52:20.290Z"
   },
   {
    "duration": 145,
    "start_time": "2022-02-10T16:52:23.448Z"
   },
   {
    "duration": 98,
    "start_time": "2022-02-10T16:52:23.596Z"
   },
   {
    "duration": 1698,
    "start_time": "2022-02-10T16:52:23.697Z"
   },
   {
    "duration": 6992,
    "start_time": "2022-02-10T16:52:25.398Z"
   },
   {
    "duration": 1114,
    "start_time": "2022-02-10T16:52:32.392Z"
   },
   {
    "duration": 1036,
    "start_time": "2022-02-10T16:52:33.570Z"
   },
   {
    "duration": 4366,
    "start_time": "2022-02-10T16:52:34.609Z"
   },
   {
    "duration": 2815,
    "start_time": "2022-02-10T16:52:38.978Z"
   },
   {
    "duration": 4,
    "start_time": "2022-02-10T16:52:41.799Z"
   },
   {
    "duration": 27,
    "start_time": "2022-02-10T16:52:41.869Z"
   },
   {
    "duration": 5,
    "start_time": "2022-02-10T16:52:41.898Z"
   },
   {
    "duration": 77,
    "start_time": "2022-02-10T16:52:41.905Z"
   },
   {
    "duration": 64100,
    "start_time": "2022-02-10T16:52:41.985Z"
   },
   {
    "duration": 6,
    "start_time": "2022-02-10T16:53:46.088Z"
   },
   {
    "duration": 11,
    "start_time": "2022-02-10T16:53:46.097Z"
   },
   {
    "duration": 3896,
    "start_time": "2022-02-10T16:53:46.111Z"
   },
   {
    "duration": 3580,
    "start_time": "2022-02-10T16:53:50.009Z"
   },
   {
    "duration": 1188,
    "start_time": "2022-02-10T16:53:53.591Z"
   },
   {
    "duration": 97,
    "start_time": "2022-02-10T16:53:54.782Z"
   },
   {
    "duration": 41,
    "start_time": "2022-02-10T16:53:54.882Z"
   },
   {
    "duration": 5464,
    "start_time": "2022-02-10T16:53:54.926Z"
   },
   {
    "duration": 1376,
    "start_time": "2022-02-10T16:54:00.393Z"
   },
   {
    "duration": 10,
    "start_time": "2022-02-10T16:54:01.771Z"
   },
   {
    "duration": 14,
    "start_time": "2022-02-10T16:54:01.784Z"
   },
   {
    "duration": 11,
    "start_time": "2022-02-10T16:54:01.801Z"
   },
   {
    "duration": 59,
    "start_time": "2022-02-10T16:54:01.814Z"
   },
   {
    "duration": 648,
    "start_time": "2022-02-10T16:54:01.876Z"
   },
   {
    "duration": 18,
    "start_time": "2022-02-10T16:54:02.527Z"
   },
   {
    "duration": 14,
    "start_time": "2022-02-10T16:54:02.548Z"
   },
   {
    "duration": 408,
    "start_time": "2022-02-11T05:08:18.179Z"
   },
   {
    "duration": 1072,
    "start_time": "2022-02-11T05:08:40.671Z"
   },
   {
    "duration": 20620,
    "start_time": "2022-02-11T05:08:41.746Z"
   },
   {
    "duration": 9324,
    "start_time": "2022-02-11T05:09:02.370Z"
   },
   {
    "duration": 888,
    "start_time": "2022-02-11T05:09:11.697Z"
   },
   {
    "duration": 1704,
    "start_time": "2022-02-11T05:09:12.588Z"
   },
   {
    "duration": 4900,
    "start_time": "2022-02-11T05:09:14.294Z"
   },
   {
    "duration": 73,
    "start_time": "2022-02-11T05:09:19.196Z"
   },
   {
    "duration": 11,
    "start_time": "2022-02-11T05:09:27.169Z"
   },
   {
    "duration": 334,
    "start_time": "2022-02-11T05:09:30.754Z"
   },
   {
    "duration": 5,
    "start_time": "2022-02-11T05:09:35.339Z"
   },
   {
    "duration": 63,
    "start_time": "2022-02-11T05:16:39.097Z"
   },
   {
    "duration": 921,
    "start_time": "2022-02-11T05:16:51.467Z"
   },
   {
    "duration": 2408,
    "start_time": "2022-02-11T05:17:18.257Z"
   },
   {
    "duration": 509,
    "start_time": "2022-02-11T05:17:30.157Z"
   },
   {
    "duration": 687,
    "start_time": "2022-02-11T07:09:57.294Z"
   },
   {
    "duration": 381,
    "start_time": "2022-02-11T07:10:26.204Z"
   },
   {
    "duration": 561,
    "start_time": "2022-02-11T07:10:35.633Z"
   },
   {
    "duration": 445,
    "start_time": "2022-02-11T07:11:00.624Z"
   },
   {
    "duration": 473,
    "start_time": "2022-02-11T07:11:11.404Z"
   },
   {
    "duration": 405,
    "start_time": "2022-02-11T07:11:17.754Z"
   },
   {
    "duration": 5,
    "start_time": "2022-02-11T07:11:32.465Z"
   },
   {
    "duration": 8,
    "start_time": "2022-02-11T07:11:32.473Z"
   },
   {
    "duration": 882,
    "start_time": "2022-02-11T07:11:32.483Z"
   },
   {
    "duration": 292,
    "start_time": "2022-02-11T07:11:33.367Z"
   },
   {
    "duration": 870,
    "start_time": "2022-02-11T07:11:33.661Z"
   },
   {
    "duration": 2291,
    "start_time": "2022-02-11T07:11:34.535Z"
   },
   {
    "duration": 11,
    "start_time": "2022-02-11T07:11:36.828Z"
   },
   {
    "duration": 234,
    "start_time": "2022-02-11T07:11:36.841Z"
   },
   {
    "duration": 382,
    "start_time": "2022-02-11T07:11:43.782Z"
   },
   {
    "duration": 471,
    "start_time": "2022-02-11T07:11:49.000Z"
   },
   {
    "duration": 386,
    "start_time": "2022-02-11T07:11:59.702Z"
   },
   {
    "duration": 735,
    "start_time": "2022-02-11T07:13:19.454Z"
   },
   {
    "duration": 322,
    "start_time": "2022-02-11T07:13:28.353Z"
   },
   {
    "duration": 327,
    "start_time": "2022-02-11T07:13:40.964Z"
   },
   {
    "duration": 113,
    "start_time": "2022-02-11T07:14:53.861Z"
   },
   {
    "duration": 6,
    "start_time": "2022-02-11T07:14:56.979Z"
   },
   {
    "duration": 9,
    "start_time": "2022-02-11T07:15:10.732Z"
   },
   {
    "duration": 779,
    "start_time": "2022-02-11T07:16:28.698Z"
   },
   {
    "duration": 3,
    "start_time": "2022-02-11T07:17:31.692Z"
   },
   {
    "duration": 5,
    "start_time": "2022-02-11T07:17:34.800Z"
   },
   {
    "duration": 3,
    "start_time": "2022-02-11T07:17:55.501Z"
   },
   {
    "duration": 5,
    "start_time": "2022-02-11T07:17:57.022Z"
   },
   {
    "duration": 371,
    "start_time": "2022-02-11T07:18:01.182Z"
   },
   {
    "duration": 6,
    "start_time": "2022-02-11T07:19:04.073Z"
   },
   {
    "duration": 8,
    "start_time": "2022-02-11T07:19:04.082Z"
   },
   {
    "duration": 693,
    "start_time": "2022-02-11T07:19:04.092Z"
   },
   {
    "duration": 278,
    "start_time": "2022-02-11T07:19:04.788Z"
   },
   {
    "duration": 897,
    "start_time": "2022-02-11T07:19:05.069Z"
   },
   {
    "duration": 1843,
    "start_time": "2022-02-11T07:19:05.969Z"
   },
   {
    "duration": 53,
    "start_time": "2022-02-11T07:19:07.815Z"
   },
   {
    "duration": 3,
    "start_time": "2022-02-11T07:19:07.870Z"
   },
   {
    "duration": 12,
    "start_time": "2022-02-11T07:19:07.875Z"
   },
   {
    "duration": 629,
    "start_time": "2022-02-11T07:19:07.889Z"
   },
   {
    "duration": 171,
    "start_time": "2022-02-11T07:19:08.527Z"
   },
   {
    "duration": 16,
    "start_time": "2022-02-11T07:19:11.782Z"
   },
   {
    "duration": 6,
    "start_time": "2022-02-11T07:19:14.152Z"
   },
   {
    "duration": 654,
    "start_time": "2022-02-11T07:20:06.732Z"
   },
   {
    "duration": 60,
    "start_time": "2022-02-11T07:20:16.711Z"
   },
   {
    "duration": 6,
    "start_time": "2022-02-11T07:20:19.482Z"
   },
   {
    "duration": 748,
    "start_time": "2022-02-11T07:24:02.911Z"
   },
   {
    "duration": 424,
    "start_time": "2022-02-11T07:24:33.412Z"
   },
   {
    "duration": 1297,
    "start_time": "2022-02-11T07:25:48.172Z"
   },
   {
    "duration": 461,
    "start_time": "2022-02-11T07:26:05.942Z"
   },
   {
    "duration": 101,
    "start_time": "2022-02-11T07:26:29.072Z"
   },
   {
    "duration": 119,
    "start_time": "2022-02-11T07:26:31.360Z"
   },
   {
    "duration": 6,
    "start_time": "2022-02-11T07:26:44.696Z"
   },
   {
    "duration": 8,
    "start_time": "2022-02-11T07:26:44.705Z"
   },
   {
    "duration": 509,
    "start_time": "2022-02-11T07:26:44.715Z"
   },
   {
    "duration": 233,
    "start_time": "2022-02-11T07:26:45.227Z"
   },
   {
    "duration": 638,
    "start_time": "2022-02-11T07:26:45.463Z"
   },
   {
    "duration": 1426,
    "start_time": "2022-02-11T07:26:46.104Z"
   },
   {
    "duration": 9,
    "start_time": "2022-02-11T07:26:47.533Z"
   },
   {
    "duration": 3,
    "start_time": "2022-02-11T07:26:47.545Z"
   },
   {
    "duration": 3,
    "start_time": "2022-02-11T07:26:52.629Z"
   },
   {
    "duration": 100,
    "start_time": "2022-02-11T07:26:53.492Z"
   },
   {
    "duration": 122,
    "start_time": "2022-02-11T07:27:48.024Z"
   },
   {
    "duration": 178,
    "start_time": "2022-02-11T07:27:58.801Z"
   },
   {
    "duration": 310,
    "start_time": "2022-02-11T07:28:17.249Z"
   },
   {
    "duration": 108,
    "start_time": "2022-02-11T07:28:19.852Z"
   },
   {
    "duration": 273,
    "start_time": "2022-02-11T07:28:23.491Z"
   },
   {
    "duration": 730,
    "start_time": "2022-02-11T07:29:36.701Z"
   },
   {
    "duration": 989,
    "start_time": "2022-02-11T08:19:44.809Z"
   },
   {
    "duration": 37496,
    "start_time": "2022-02-11T08:19:45.800Z"
   },
   {
    "duration": 11813,
    "start_time": "2022-02-11T08:20:23.299Z"
   },
   {
    "duration": 851,
    "start_time": "2022-02-11T08:20:35.115Z"
   },
   {
    "duration": 1571,
    "start_time": "2022-02-11T08:20:35.968Z"
   },
   {
    "duration": 3891,
    "start_time": "2022-02-11T08:20:37.541Z"
   },
   {
    "duration": 73,
    "start_time": "2022-02-11T08:20:41.434Z"
   },
   {
    "duration": 351,
    "start_time": "2022-02-11T08:20:47.860Z"
   },
   {
    "duration": 451,
    "start_time": "2022-02-11T08:21:06.641Z"
   },
   {
    "duration": 285,
    "start_time": "2022-02-11T08:32:40.630Z"
   },
   {
    "duration": 152,
    "start_time": "2022-02-11T08:32:53.055Z"
   },
   {
    "duration": 253,
    "start_time": "2022-02-11T08:33:20.626Z"
   },
   {
    "duration": 75,
    "start_time": "2022-02-11T08:33:27.273Z"
   },
   {
    "duration": 248,
    "start_time": "2022-02-11T08:33:29.979Z"
   },
   {
    "duration": 196,
    "start_time": "2022-02-11T08:33:52.748Z"
   }
  ],
  "colab": {
   "name": "PySparkSprint.ipynb",
   "provenance": []
  },
  "kernelspec": {
   "display_name": "Python 3",
   "language": "python",
   "name": "python3"
  },
  "language_info": {
   "codemirror_mode": {
    "name": "ipython",
    "version": 3
   },
   "file_extension": ".py",
   "mimetype": "text/x-python",
   "name": "python",
   "nbconvert_exporter": "python",
   "pygments_lexer": "ipython3",
   "version": "3.7.8"
  },
  "toc": {
   "base_numbering": 1,
   "nav_menu": {},
   "number_sections": true,
   "sideBar": true,
   "skip_h1_title": true,
   "title_cell": "Table of Contents",
   "title_sidebar": "Contents",
   "toc_cell": false,
   "toc_position": {
    "height": "calc(100% - 180px)",
    "left": "10px",
    "top": "150px",
    "width": "165px"
   },
   "toc_section_display": true,
   "toc_window_display": true
  }
 },
 "nbformat": 4,
 "nbformat_minor": 5
}
